{
 "cells": [
  {
   "cell_type": "code",
   "execution_count": 1,
   "id": "d45be4d2",
   "metadata": {},
   "outputs": [],
   "source": [
    "import tensorflow as tf\n",
    "from tensorflow import keras\n",
    "import matplotlib.pyplot as plt\n",
    "%matplotlib inline\n",
    "import numpy as np"
   ]
  },
  {
   "cell_type": "code",
   "execution_count": 2,
   "id": "cce97c98",
   "metadata": {},
   "outputs": [
    {
     "data": {
      "text/plain": [
       "[PhysicalDevice(name='/physical_device:CPU:0', device_type='CPU')]"
      ]
     },
     "execution_count": 2,
     "metadata": {},
     "output_type": "execute_result"
    }
   ],
   "source": [
    "tf.config.experimental.list_physical_devices()"
   ]
  },
  {
   "cell_type": "code",
   "execution_count": 3,
   "id": "eb135327",
   "metadata": {},
   "outputs": [
    {
     "ename": "AttributeError",
     "evalue": "module 'tensorflow._api.v2.test' has no attribute 'is_build_with_cuda'",
     "output_type": "error",
     "traceback": [
      "\u001b[1;31m---------------------------------------------------------------------------\u001b[0m",
      "\u001b[1;31mAttributeError\u001b[0m                            Traceback (most recent call last)",
      "Input \u001b[1;32mIn [3]\u001b[0m, in \u001b[0;36m<module>\u001b[1;34m\u001b[0m\n\u001b[1;32m----> 1\u001b[0m \u001b[43mtf\u001b[49m\u001b[38;5;241;43m.\u001b[39;49m\u001b[43mtest\u001b[49m\u001b[38;5;241;43m.\u001b[39;49m\u001b[43mis_build_with_cuda\u001b[49m()\n",
      "\u001b[1;31mAttributeError\u001b[0m: module 'tensorflow._api.v2.test' has no attribute 'is_build_with_cuda'"
     ]
    }
   ],
   "source": [
    "tf.test.is_build_with_cuda()\n",
    "#cuda is a library for using GPU n ur fukin system"
   ]
  },
  {
   "cell_type": "code",
   "execution_count": 4,
   "id": "3bf9440b",
   "metadata": {},
   "outputs": [],
   "source": [
    "(x_train, y_train), (x_test, y_test) = keras.datasets.cifar10.load_data()"
   ]
  },
  {
   "cell_type": "code",
   "execution_count": 5,
   "id": "12b44d85",
   "metadata": {},
   "outputs": [
    {
     "data": {
      "text/plain": [
       "(50000, 32, 32, 3)"
      ]
     },
     "execution_count": 5,
     "metadata": {},
     "output_type": "execute_result"
    }
   ],
   "source": [
    "x_train.shape"
   ]
  },
  {
   "cell_type": "code",
   "execution_count": 6,
   "id": "13bb7063",
   "metadata": {},
   "outputs": [
    {
     "data": {
      "text/plain": [
       "(32, 32, 3)"
      ]
     },
     "execution_count": 6,
     "metadata": {},
     "output_type": "execute_result"
    }
   ],
   "source": [
    "x_train[0].shape"
   ]
  },
  {
   "cell_type": "code",
   "execution_count": 7,
   "id": "bf2e29e0",
   "metadata": {},
   "outputs": [
    {
     "data": {
      "text/plain": [
       "array([[[ 59,  62,  63],\n",
       "        [ 43,  46,  45],\n",
       "        [ 50,  48,  43],\n",
       "        ...,\n",
       "        [158, 132, 108],\n",
       "        [152, 125, 102],\n",
       "        [148, 124, 103]],\n",
       "\n",
       "       [[ 16,  20,  20],\n",
       "        [  0,   0,   0],\n",
       "        [ 18,   8,   0],\n",
       "        ...,\n",
       "        [123,  88,  55],\n",
       "        [119,  83,  50],\n",
       "        [122,  87,  57]],\n",
       "\n",
       "       [[ 25,  24,  21],\n",
       "        [ 16,   7,   0],\n",
       "        [ 49,  27,   8],\n",
       "        ...,\n",
       "        [118,  84,  50],\n",
       "        [120,  84,  50],\n",
       "        [109,  73,  42]],\n",
       "\n",
       "       ...,\n",
       "\n",
       "       [[208, 170,  96],\n",
       "        [201, 153,  34],\n",
       "        [198, 161,  26],\n",
       "        ...,\n",
       "        [160, 133,  70],\n",
       "        [ 56,  31,   7],\n",
       "        [ 53,  34,  20]],\n",
       "\n",
       "       [[180, 139,  96],\n",
       "        [173, 123,  42],\n",
       "        [186, 144,  30],\n",
       "        ...,\n",
       "        [184, 148,  94],\n",
       "        [ 97,  62,  34],\n",
       "        [ 83,  53,  34]],\n",
       "\n",
       "       [[177, 144, 116],\n",
       "        [168, 129,  94],\n",
       "        [179, 142,  87],\n",
       "        ...,\n",
       "        [216, 184, 140],\n",
       "        [151, 118,  84],\n",
       "        [123,  92,  72]]], dtype=uint8)"
      ]
     },
     "execution_count": 7,
     "metadata": {},
     "output_type": "execute_result"
    }
   ],
   "source": [
    "x_train[0]"
   ]
  },
  {
   "cell_type": "code",
   "execution_count": 8,
   "id": "08e81286",
   "metadata": {},
   "outputs": [
    {
     "data": {
      "text/plain": [
       "<matplotlib.image.AxesImage at 0x5aa0fd62e0>"
      ]
     },
     "execution_count": 8,
     "metadata": {},
     "output_type": "execute_result"
    },
    {
     "data": {
      "image/png": "[encoded data removed]",
      "text/plain": [
       "<Figure size 288x288 with 1 Axes>"
      ]
     },
     "metadata": {
      "needs_background": "light"
     },
     "output_type": "display_data"
    }
   ],
   "source": [
    "plt.matshow(x_train[0])"
   ]
  },
  {
   "cell_type": "code",
   "execution_count": 9,
   "id": "70a86030",
   "metadata": {},
   "outputs": [
    {
     "data": {
      "text/plain": [
       "array([6], dtype=uint8)"
      ]
     },
     "execution_count": 9,
     "metadata": {},
     "output_type": "execute_result"
    }
   ],
   "source": [
    "y_train[0]"
   ]
  },
  {
   "cell_type": "code",
   "execution_count": 10,
   "id": "c17b3328",
   "metadata": {},
   "outputs": [],
   "source": [
    "def plot_sample(index):\n",
    "    plt.figure(figsize = (10,1))\n",
    "    plt.imshow(x_train[index])"
   ]
  },
  {
   "cell_type": "code",
   "execution_count": 11,
   "id": "4cca37b5",
   "metadata": {},
   "outputs": [
    {
     "data": {
      "image/png": "[encoded data removed]",
      "text/plain": [
       "<Figure size 720x72 with 1 Axes>"
      ]
     },
     "metadata": {
      "needs_background": "light"
     },
     "output_type": "display_data"
    }
   ],
   "source": [
    "plot_sample(6)"
   ]
  },
  {
   "cell_type": "code",
   "execution_count": 12,
   "id": "5be7711a",
   "metadata": {},
   "outputs": [
    {
     "data": {
      "image/png": "[encoded data removed]",
      "text/plain": [
       "<Figure size 720x72 with 1 Axes>"
      ]
     },
     "metadata": {
      "needs_background": "light"
     },
     "output_type": "display_data"
    }
   ],
   "source": [
    "plot_sample(2)"
   ]
  },
  {
   "cell_type": "code",
   "execution_count": 13,
   "id": "3518d8c3",
   "metadata": {},
   "outputs": [
    {
     "data": {
      "image/png": "[encoded data removed]",
      "text/plain": [
       "<Figure size 720x72 with 1 Axes>"
      ]
     },
     "metadata": {
      "needs_background": "light"
     },
     "output_type": "display_data"
    }
   ],
   "source": [
    "plot_sample(3)"
   ]
  },
  {
   "cell_type": "code",
   "execution_count": 14,
   "id": "b7478406",
   "metadata": {},
   "outputs": [],
   "source": [
    "#that clsses stuff is from the keras data website....so i will get the full gist sha "
   ]
  },
  {
   "cell_type": "code",
   "execution_count": 15,
   "id": "750224ed",
   "metadata": {},
   "outputs": [],
   "source": [
    "classes = [\"airplane\",\"automobile\",\"bird\",\"cat\",\"deer\",\"dog\",\"frog\",\"horse\",\"ship\",\"truck\"]"
   ]
  },
  {
   "cell_type": "code",
   "execution_count": 16,
   "id": "688874be",
   "metadata": {},
   "outputs": [
    {
     "data": {
      "text/plain": [
       "'deer'"
      ]
     },
     "execution_count": 16,
     "metadata": {},
     "output_type": "execute_result"
    }
   ],
   "source": [
    "classes[y_train[3][0]]"
   ]
  },
  {
   "cell_type": "code",
   "execution_count": 17,
   "id": "015a6e45",
   "metadata": {},
   "outputs": [],
   "source": [
    "#scalling the image"
   ]
  },
  {
   "cell_type": "code",
   "execution_count": 21,
   "id": "8fe0ac91",
   "metadata": {},
   "outputs": [],
   "source": [
    "x_train_scaled = x_train / 255\n",
    "x_test_scaled = x_test / 255"
   ]
  },
  {
   "cell_type": "code",
   "execution_count": 23,
   "id": "c3def40d",
   "metadata": {},
   "outputs": [
    {
     "data": {
      "text/plain": [
       "array([[[[0.23137255, 0.24313725, 0.24705882],\n",
       "         [0.16862745, 0.18039216, 0.17647059],\n",
       "         [0.19607843, 0.18823529, 0.16862745],\n",
       "         ...,\n",
       "         [0.61960784, 0.51764706, 0.42352941],\n",
       "         [0.59607843, 0.49019608, 0.4       ],\n",
       "         [0.58039216, 0.48627451, 0.40392157]],\n",
       "\n",
       "        [[0.0627451 , 0.07843137, 0.07843137],\n",
       "         [0.        , 0.        , 0.        ],\n",
       "         [0.07058824, 0.03137255, 0.        ],\n",
       "         ...,\n",
       "         [0.48235294, 0.34509804, 0.21568627],\n",
       "         [0.46666667, 0.3254902 , 0.19607843],\n",
       "         [0.47843137, 0.34117647, 0.22352941]],\n",
       "\n",
       "        [[0.09803922, 0.09411765, 0.08235294],\n",
       "         [0.0627451 , 0.02745098, 0.        ],\n",
       "         [0.19215686, 0.10588235, 0.03137255],\n",
       "         ...,\n",
       "         [0.4627451 , 0.32941176, 0.19607843],\n",
       "         [0.47058824, 0.32941176, 0.19607843],\n",
       "         [0.42745098, 0.28627451, 0.16470588]],\n",
       "\n",
       "        ...,\n",
       "\n",
       "        [[0.81568627, 0.66666667, 0.37647059],\n",
       "         [0.78823529, 0.6       , 0.13333333],\n",
       "         [0.77647059, 0.63137255, 0.10196078],\n",
       "         ...,\n",
       "         [0.62745098, 0.52156863, 0.2745098 ],\n",
       "         [0.21960784, 0.12156863, 0.02745098],\n",
       "         [0.20784314, 0.13333333, 0.07843137]],\n",
       "\n",
       "        [[0.70588235, 0.54509804, 0.37647059],\n",
       "         [0.67843137, 0.48235294, 0.16470588],\n",
       "         [0.72941176, 0.56470588, 0.11764706],\n",
       "         ...,\n",
       "         [0.72156863, 0.58039216, 0.36862745],\n",
       "         [0.38039216, 0.24313725, 0.13333333],\n",
       "         [0.3254902 , 0.20784314, 0.13333333]],\n",
       "\n",
       "        [[0.69411765, 0.56470588, 0.45490196],\n",
       "         [0.65882353, 0.50588235, 0.36862745],\n",
       "         [0.70196078, 0.55686275, 0.34117647],\n",
       "         ...,\n",
       "         [0.84705882, 0.72156863, 0.54901961],\n",
       "         [0.59215686, 0.4627451 , 0.32941176],\n",
       "         [0.48235294, 0.36078431, 0.28235294]]],\n",
       "\n",
       "\n",
       "       [[[0.60392157, 0.69411765, 0.73333333],\n",
       "         [0.49411765, 0.5372549 , 0.53333333],\n",
       "         [0.41176471, 0.40784314, 0.37254902],\n",
       "         ...,\n",
       "         [0.35686275, 0.37254902, 0.27843137],\n",
       "         [0.34117647, 0.35294118, 0.27843137],\n",
       "         [0.30980392, 0.31764706, 0.2745098 ]],\n",
       "\n",
       "        [[0.54901961, 0.62745098, 0.6627451 ],\n",
       "         [0.56862745, 0.6       , 0.60392157],\n",
       "         [0.49019608, 0.49019608, 0.4627451 ],\n",
       "         ...,\n",
       "         [0.37647059, 0.38823529, 0.30588235],\n",
       "         [0.30196078, 0.31372549, 0.24313725],\n",
       "         [0.27843137, 0.28627451, 0.23921569]],\n",
       "\n",
       "        [[0.54901961, 0.60784314, 0.64313725],\n",
       "         [0.54509804, 0.57254902, 0.58431373],\n",
       "         [0.45098039, 0.45098039, 0.43921569],\n",
       "         ...,\n",
       "         [0.30980392, 0.32156863, 0.25098039],\n",
       "         [0.26666667, 0.2745098 , 0.21568627],\n",
       "         [0.2627451 , 0.27058824, 0.21568627]],\n",
       "\n",
       "        ...,\n",
       "\n",
       "        [[0.68627451, 0.65490196, 0.65098039],\n",
       "         [0.61176471, 0.60392157, 0.62745098],\n",
       "         [0.60392157, 0.62745098, 0.66666667],\n",
       "         ...,\n",
       "         [0.16470588, 0.13333333, 0.14117647],\n",
       "         [0.23921569, 0.20784314, 0.22352941],\n",
       "         [0.36470588, 0.3254902 , 0.35686275]],\n",
       "\n",
       "        [[0.64705882, 0.60392157, 0.50196078],\n",
       "         [0.61176471, 0.59607843, 0.50980392],\n",
       "         [0.62352941, 0.63137255, 0.55686275],\n",
       "         ...,\n",
       "         [0.40392157, 0.36470588, 0.37647059],\n",
       "         [0.48235294, 0.44705882, 0.47058824],\n",
       "         [0.51372549, 0.4745098 , 0.51372549]],\n",
       "\n",
       "        [[0.63921569, 0.58039216, 0.47058824],\n",
       "         [0.61960784, 0.58039216, 0.47843137],\n",
       "         [0.63921569, 0.61176471, 0.52156863],\n",
       "         ...,\n",
       "         [0.56078431, 0.52156863, 0.54509804],\n",
       "         [0.56078431, 0.5254902 , 0.55686275],\n",
       "         [0.56078431, 0.52156863, 0.56470588]]],\n",
       "\n",
       "\n",
       "       [[[1.        , 1.        , 1.        ],\n",
       "         [0.99215686, 0.99215686, 0.99215686],\n",
       "         [0.99215686, 0.99215686, 0.99215686],\n",
       "         ...,\n",
       "         [0.99215686, 0.99215686, 0.99215686],\n",
       "         [0.99215686, 0.99215686, 0.99215686],\n",
       "         [0.99215686, 0.99215686, 0.99215686]],\n",
       "\n",
       "        [[1.        , 1.        , 1.        ],\n",
       "         [1.        , 1.        , 1.        ],\n",
       "         [1.        , 1.        , 1.        ],\n",
       "         ...,\n",
       "         [1.        , 1.        , 1.        ],\n",
       "         [1.        , 1.        , 1.        ],\n",
       "         [1.        , 1.        , 1.        ]],\n",
       "\n",
       "        [[1.        , 1.        , 1.        ],\n",
       "         [0.99607843, 0.99607843, 0.99607843],\n",
       "         [0.99607843, 0.99607843, 0.99607843],\n",
       "         ...,\n",
       "         [0.99607843, 0.99607843, 0.99607843],\n",
       "         [0.99607843, 0.99607843, 0.99607843],\n",
       "         [0.99607843, 0.99607843, 0.99607843]],\n",
       "\n",
       "        ...,\n",
       "\n",
       "        [[0.44313725, 0.47058824, 0.43921569],\n",
       "         [0.43529412, 0.4627451 , 0.43529412],\n",
       "         [0.41176471, 0.43921569, 0.41568627],\n",
       "         ...,\n",
       "         [0.28235294, 0.31764706, 0.31372549],\n",
       "         [0.28235294, 0.31372549, 0.30980392],\n",
       "         [0.28235294, 0.31372549, 0.30980392]],\n",
       "\n",
       "        [[0.43529412, 0.4627451 , 0.43137255],\n",
       "         [0.40784314, 0.43529412, 0.40784314],\n",
       "         [0.38823529, 0.41568627, 0.38431373],\n",
       "         ...,\n",
       "         [0.26666667, 0.29411765, 0.28627451],\n",
       "         [0.2745098 , 0.29803922, 0.29411765],\n",
       "         [0.30588235, 0.32941176, 0.32156863]],\n",
       "\n",
       "        [[0.41568627, 0.44313725, 0.41176471],\n",
       "         [0.38823529, 0.41568627, 0.38431373],\n",
       "         [0.37254902, 0.4       , 0.36862745],\n",
       "         ...,\n",
       "         [0.30588235, 0.33333333, 0.3254902 ],\n",
       "         [0.30980392, 0.33333333, 0.3254902 ],\n",
       "         [0.31372549, 0.3372549 , 0.32941176]]],\n",
       "\n",
       "\n",
       "       ...,\n",
       "\n",
       "\n",
       "       [[[0.1372549 , 0.69803922, 0.92156863],\n",
       "         [0.15686275, 0.69019608, 0.9372549 ],\n",
       "         [0.16470588, 0.69019608, 0.94509804],\n",
       "         ...,\n",
       "         [0.38823529, 0.69411765, 0.85882353],\n",
       "         [0.30980392, 0.57647059, 0.77254902],\n",
       "         [0.34901961, 0.58039216, 0.74117647]],\n",
       "\n",
       "        [[0.22352941, 0.71372549, 0.91764706],\n",
       "         [0.17254902, 0.72156863, 0.98039216],\n",
       "         [0.19607843, 0.71764706, 0.94117647],\n",
       "         ...,\n",
       "         [0.61176471, 0.71372549, 0.78431373],\n",
       "         [0.55294118, 0.69411765, 0.80784314],\n",
       "         [0.45490196, 0.58431373, 0.68627451]],\n",
       "\n",
       "        [[0.38431373, 0.77254902, 0.92941176],\n",
       "         [0.25098039, 0.74117647, 0.98823529],\n",
       "         [0.27058824, 0.75294118, 0.96078431],\n",
       "         ...,\n",
       "         [0.7372549 , 0.76470588, 0.80784314],\n",
       "         [0.46666667, 0.52941176, 0.57647059],\n",
       "         [0.23921569, 0.30980392, 0.35294118]],\n",
       "\n",
       "        ...,\n",
       "\n",
       "        [[0.28627451, 0.30980392, 0.30196078],\n",
       "         [0.20784314, 0.24705882, 0.26666667],\n",
       "         [0.21176471, 0.26666667, 0.31372549],\n",
       "         ...,\n",
       "         [0.06666667, 0.15686275, 0.25098039],\n",
       "         [0.08235294, 0.14117647, 0.2       ],\n",
       "         [0.12941176, 0.18823529, 0.19215686]],\n",
       "\n",
       "        [[0.23921569, 0.26666667, 0.29411765],\n",
       "         [0.21568627, 0.2745098 , 0.3372549 ],\n",
       "         [0.22352941, 0.30980392, 0.40392157],\n",
       "         ...,\n",
       "         [0.09411765, 0.18823529, 0.28235294],\n",
       "         [0.06666667, 0.1372549 , 0.20784314],\n",
       "         [0.02745098, 0.09019608, 0.1254902 ]],\n",
       "\n",
       "        [[0.17254902, 0.21960784, 0.28627451],\n",
       "         [0.18039216, 0.25882353, 0.34509804],\n",
       "         [0.19215686, 0.30196078, 0.41176471],\n",
       "         ...,\n",
       "         [0.10588235, 0.20392157, 0.30196078],\n",
       "         [0.08235294, 0.16862745, 0.25882353],\n",
       "         [0.04705882, 0.12156863, 0.19607843]]],\n",
       "\n",
       "\n",
       "       [[[0.74117647, 0.82745098, 0.94117647],\n",
       "         [0.72941176, 0.81568627, 0.9254902 ],\n",
       "         [0.7254902 , 0.81176471, 0.92156863],\n",
       "         ...,\n",
       "         [0.68627451, 0.76470588, 0.87843137],\n",
       "         [0.6745098 , 0.76078431, 0.87058824],\n",
       "         [0.6627451 , 0.76078431, 0.8627451 ]],\n",
       "\n",
       "        [[0.76078431, 0.82352941, 0.9372549 ],\n",
       "         [0.74901961, 0.81176471, 0.9254902 ],\n",
       "         [0.74509804, 0.80784314, 0.92156863],\n",
       "         ...,\n",
       "         [0.67843137, 0.75294118, 0.8627451 ],\n",
       "         [0.67058824, 0.74901961, 0.85490196],\n",
       "         [0.65490196, 0.74509804, 0.84705882]],\n",
       "\n",
       "        [[0.81568627, 0.85882353, 0.95686275],\n",
       "         [0.80392157, 0.84705882, 0.94117647],\n",
       "         [0.8       , 0.84313725, 0.9372549 ],\n",
       "         ...,\n",
       "         [0.68627451, 0.74901961, 0.85098039],\n",
       "         [0.6745098 , 0.74509804, 0.84705882],\n",
       "         [0.6627451 , 0.74901961, 0.84313725]],\n",
       "\n",
       "        ...,\n",
       "\n",
       "        [[0.81176471, 0.78039216, 0.70980392],\n",
       "         [0.79607843, 0.76470588, 0.68627451],\n",
       "         [0.79607843, 0.76862745, 0.67843137],\n",
       "         ...,\n",
       "         [0.52941176, 0.51764706, 0.49803922],\n",
       "         [0.63529412, 0.61960784, 0.58823529],\n",
       "         [0.65882353, 0.63921569, 0.59215686]],\n",
       "\n",
       "        [[0.77647059, 0.74509804, 0.66666667],\n",
       "         [0.74117647, 0.70980392, 0.62352941],\n",
       "         [0.70588235, 0.6745098 , 0.57647059],\n",
       "         ...,\n",
       "         [0.69803922, 0.67058824, 0.62745098],\n",
       "         [0.68627451, 0.6627451 , 0.61176471],\n",
       "         [0.68627451, 0.6627451 , 0.60392157]],\n",
       "\n",
       "        [[0.77647059, 0.74117647, 0.67843137],\n",
       "         [0.74117647, 0.70980392, 0.63529412],\n",
       "         [0.69803922, 0.66666667, 0.58431373],\n",
       "         ...,\n",
       "         [0.76470588, 0.72156863, 0.6627451 ],\n",
       "         [0.76862745, 0.74117647, 0.67058824],\n",
       "         [0.76470588, 0.74509804, 0.67058824]]],\n",
       "\n",
       "\n",
       "       [[[0.89803922, 0.89803922, 0.9372549 ],\n",
       "         [0.9254902 , 0.92941176, 0.96862745],\n",
       "         [0.91764706, 0.9254902 , 0.96862745],\n",
       "         ...,\n",
       "         [0.85098039, 0.85882353, 0.91372549],\n",
       "         [0.86666667, 0.8745098 , 0.91764706],\n",
       "         [0.87058824, 0.8745098 , 0.91372549]],\n",
       "\n",
       "        [[0.87058824, 0.86666667, 0.89803922],\n",
       "         [0.9372549 , 0.9372549 , 0.97647059],\n",
       "         [0.91372549, 0.91764706, 0.96470588],\n",
       "         ...,\n",
       "         [0.8745098 , 0.8745098 , 0.9254902 ],\n",
       "         [0.89019608, 0.89411765, 0.93333333],\n",
       "         [0.82352941, 0.82745098, 0.8627451 ]],\n",
       "\n",
       "        [[0.83529412, 0.80784314, 0.82745098],\n",
       "         [0.91764706, 0.90980392, 0.9372549 ],\n",
       "         [0.90588235, 0.91372549, 0.95686275],\n",
       "         ...,\n",
       "         [0.8627451 , 0.8627451 , 0.90980392],\n",
       "         [0.8627451 , 0.85882353, 0.90980392],\n",
       "         [0.79215686, 0.79607843, 0.84313725]],\n",
       "\n",
       "        ...,\n",
       "\n",
       "        [[0.58823529, 0.56078431, 0.52941176],\n",
       "         [0.54901961, 0.52941176, 0.49803922],\n",
       "         [0.51764706, 0.49803922, 0.47058824],\n",
       "         ...,\n",
       "         [0.87843137, 0.87058824, 0.85490196],\n",
       "         [0.90196078, 0.89411765, 0.88235294],\n",
       "         [0.94509804, 0.94509804, 0.93333333]],\n",
       "\n",
       "        [[0.5372549 , 0.51764706, 0.49411765],\n",
       "         [0.50980392, 0.49803922, 0.47058824],\n",
       "         [0.49019608, 0.4745098 , 0.45098039],\n",
       "         ...,\n",
       "         [0.70980392, 0.70588235, 0.69803922],\n",
       "         [0.79215686, 0.78823529, 0.77647059],\n",
       "         [0.83137255, 0.82745098, 0.81176471]],\n",
       "\n",
       "        [[0.47843137, 0.46666667, 0.44705882],\n",
       "         [0.4627451 , 0.45490196, 0.43137255],\n",
       "         [0.47058824, 0.45490196, 0.43529412],\n",
       "         ...,\n",
       "         [0.70196078, 0.69411765, 0.67843137],\n",
       "         [0.64313725, 0.64313725, 0.63529412],\n",
       "         [0.63921569, 0.63921569, 0.63137255]]]])"
      ]
     },
     "execution_count": 23,
     "metadata": {},
     "output_type": "execute_result"
    }
   ],
   "source": [
    "x_train_scaled"
   ]
  },
  {
   "cell_type": "code",
   "execution_count": 24,
   "id": "6966bbfb",
   "metadata": {},
   "outputs": [
    {
     "data": {
      "text/plain": [
       "4"
      ]
     },
     "execution_count": 24,
     "metadata": {},
     "output_type": "execute_result"
    }
   ],
   "source": [
    "y_train[3][0]"
   ]
  },
  {
   "cell_type": "code",
   "execution_count": 25,
   "id": "c077104e",
   "metadata": {},
   "outputs": [
    {
     "data": {
      "text/plain": [
       "array([[6],\n",
       "       [9],\n",
       "       [9],\n",
       "       [4],\n",
       "       [1]], dtype=uint8)"
      ]
     },
     "execution_count": 25,
     "metadata": {},
     "output_type": "execute_result"
    }
   ],
   "source": [
    "y_train[:5]"
   ]
  },
  {
   "cell_type": "code",
   "execution_count": 26,
   "id": "b2ed5690",
   "metadata": {},
   "outputs": [],
   "source": [
    "#one hot encoding for the classes"
   ]
  },
  {
   "cell_type": "code",
   "execution_count": 27,
   "id": "5ee188b1",
   "metadata": {},
   "outputs": [
    {
     "data": {
      "text/plain": [
       "array([[0., 0., 0., 0., 0., 0., 1., 0., 0., 0.],\n",
       "       [0., 0., 0., 0., 0., 0., 0., 0., 0., 1.],\n",
       "       [0., 0., 0., 0., 0., 0., 0., 0., 0., 1.],\n",
       "       [0., 0., 0., 0., 1., 0., 0., 0., 0., 0.],\n",
       "       [0., 1., 0., 0., 0., 0., 0., 0., 0., 0.]], dtype=float32)"
      ]
     },
     "execution_count": 27,
     "metadata": {},
     "output_type": "execute_result"
    }
   ],
   "source": [
    "y_train_categorical = keras.utils.to_categorical(\n",
    "    y_train, num_classes =10, dtype='float32'\n",
    ")\n",
    "y_train_categorical[:5]"
   ]
  },
  {
   "cell_type": "code",
   "execution_count": 28,
   "id": "66e2d013",
   "metadata": {},
   "outputs": [
    {
     "data": {
      "text/plain": [
       "array([[0., 0., 0., 1., 0., 0., 0., 0., 0., 0.],\n",
       "       [0., 0., 0., 0., 0., 0., 0., 0., 1., 0.],\n",
       "       [0., 0., 0., 0., 0., 0., 0., 0., 1., 0.],\n",
       "       [1., 0., 0., 0., 0., 0., 0., 0., 0., 0.],\n",
       "       [0., 0., 0., 0., 0., 0., 1., 0., 0., 0.]], dtype=float32)"
      ]
     },
     "execution_count": 28,
     "metadata": {},
     "output_type": "execute_result"
    }
   ],
   "source": [
    "y_test_categorical = keras.utils.to_categorical(\n",
    "    y_test, num_classes = 10, dtype='float32'\n",
    ")\n",
    "y_test_categorical[:5]"
   ]
  },
  {
   "cell_type": "code",
   "execution_count": 29,
   "id": "df8329b0",
   "metadata": {},
   "outputs": [
    {
     "data": {
      "text/plain": [
       "array([[0., 0., 0., ..., 0., 0., 0.],\n",
       "       [0., 0., 0., ..., 0., 1., 0.],\n",
       "       [0., 0., 0., ..., 0., 1., 0.],\n",
       "       ...,\n",
       "       [0., 0., 0., ..., 0., 0., 0.],\n",
       "       [0., 1., 0., ..., 0., 0., 0.],\n",
       "       [0., 0., 0., ..., 1., 0., 0.]], dtype=float32)"
      ]
     },
     "execution_count": 29,
     "metadata": {},
     "output_type": "execute_result"
    }
   ],
   "source": [
    "y_test_categorical"
   ]
  },
  {
   "cell_type": "code",
   "execution_count": 30,
   "id": "79669618",
   "metadata": {},
   "outputs": [
    {
     "data": {
      "text/plain": [
       "3072"
      ]
     },
     "execution_count": 30,
     "metadata": {},
     "output_type": "execute_result"
    }
   ],
   "source": [
    "32*32*3"
   ]
  },
  {
   "cell_type": "code",
   "execution_count": 32,
   "id": "69f5340b",
   "metadata": {},
   "outputs": [
    {
     "name": "stdout",
     "output_type": "stream",
     "text": [
      "Epoch 1/50\n",
      "1563/1563 [==============================] - 241s 125ms/step - loss: 1.8119 - accuracy: 0.3562\n",
      "Epoch 2/50\n",
      "1563/1563 [==============================] - 146s 93ms/step - loss: 1.6209 - accuracy: 0.4287\n",
      "Epoch 3/50\n",
      "1563/1563 [==============================] - 150s 96ms/step - loss: 1.5421 - accuracy: 0.4571\n",
      "Epoch 4/50\n",
      "1563/1563 [==============================] - 155s 99ms/step - loss: 1.4799 - accuracy: 0.4804\n",
      "Epoch 5/50\n",
      "1563/1563 [==============================] - 155s 99ms/step - loss: 1.4311 - accuracy: 0.4965\n",
      "Epoch 6/50\n",
      "1563/1563 [==============================] - 155s 99ms/step - loss: 1.3887 - accuracy: 0.5134\n",
      "Epoch 7/50\n",
      "1563/1563 [==============================] - 155s 99ms/step - loss: 1.3497 - accuracy: 0.5264\n",
      "Epoch 8/50\n",
      "1563/1563 [==============================] - 156s 100ms/step - loss: 1.3134 - accuracy: 0.5384\n",
      "Epoch 9/50\n",
      "1563/1563 [==============================] - 157s 100ms/step - loss: 1.2794 - accuracy: 0.5507\n",
      "Epoch 10/50\n",
      "1563/1563 [==============================] - 155s 99ms/step - loss: 1.2481 - accuracy: 0.5633\n",
      "Epoch 11/50\n",
      "1563/1563 [==============================] - 169s 108ms/step - loss: 1.2213 - accuracy: 0.5715\n",
      "Epoch 12/50\n",
      "1563/1563 [==============================] - 237s 152ms/step - loss: 1.1913 - accuracy: 0.5827\n",
      "Epoch 13/50\n",
      "1563/1563 [==============================] - 219s 140ms/step - loss: 1.1630 - accuracy: 0.5932\n",
      "Epoch 14/50\n",
      "1563/1563 [==============================] - 235s 150ms/step - loss: 1.1399 - accuracy: 0.6026\n",
      "Epoch 15/50\n",
      "1563/1563 [==============================] - 217s 139ms/step - loss: 1.1095 - accuracy: 0.6147\n",
      "Epoch 16/50\n",
      "1563/1563 [==============================] - 209s 134ms/step - loss: 1.0838 - accuracy: 0.6204\n",
      "Epoch 17/50\n",
      "1563/1563 [==============================] - 193s 124ms/step - loss: 1.0563 - accuracy: 0.6319\n",
      "Epoch 18/50\n",
      "1563/1563 [==============================] - 193s 124ms/step - loss: 1.0332 - accuracy: 0.6408\n",
      "Epoch 19/50\n",
      "1563/1563 [==============================] - 192s 123ms/step - loss: 1.0046 - accuracy: 0.6521\n",
      "Epoch 20/50\n",
      "1563/1563 [==============================] - 193s 124ms/step - loss: 0.9798 - accuracy: 0.6589\n",
      "Epoch 21/50\n",
      "1563/1563 [==============================] - 190s 121ms/step - loss: 0.9545 - accuracy: 0.6696\n",
      "Epoch 22/50\n",
      "1563/1563 [==============================] - 188s 120ms/step - loss: 0.9300 - accuracy: 0.6774\n",
      "Epoch 23/50\n",
      "1563/1563 [==============================] - 188s 120ms/step - loss: 0.9024 - accuracy: 0.6902\n",
      "Epoch 24/50\n",
      "1563/1563 [==============================] - 188s 120ms/step - loss: 0.8768 - accuracy: 0.6967\n",
      "Epoch 25/50\n",
      "1563/1563 [==============================] - 188s 120ms/step - loss: 0.8542 - accuracy: 0.7065\n",
      "Epoch 26/50\n",
      "1563/1563 [==============================] - 187s 120ms/step - loss: 0.8274 - accuracy: 0.7171\n",
      "Epoch 27/50\n",
      "1563/1563 [==============================] - 187s 120ms/step - loss: 0.7991 - accuracy: 0.7272\n",
      "Epoch 28/50\n",
      "1563/1563 [==============================] - 186s 119ms/step - loss: 0.7772 - accuracy: 0.7348\n",
      "Epoch 29/50\n",
      "1563/1563 [==============================] - 186s 119ms/step - loss: 0.7496 - accuracy: 0.7454\n",
      "Epoch 30/50\n",
      "1563/1563 [==============================] - 188s 121ms/step - loss: 0.7259 - accuracy: 0.7519\n",
      "Epoch 31/50\n",
      "1563/1563 [==============================] - 195s 125ms/step - loss: 0.6999 - accuracy: 0.7620\n",
      "Epoch 32/50\n",
      "1563/1563 [==============================] - 197s 126ms/step - loss: 0.6745 - accuracy: 0.7725\n",
      "Epoch 33/50\n",
      "1563/1563 [==============================] - 193s 124ms/step - loss: 0.6533 - accuracy: 0.7802\n",
      "Epoch 34/50\n",
      "1563/1563 [==============================] - 193s 124ms/step - loss: 0.6245 - accuracy: 0.7910\n",
      "Epoch 35/50\n",
      "1563/1563 [==============================] - 192s 123ms/step - loss: 0.6025 - accuracy: 0.7987\n",
      "Epoch 36/50\n",
      "1563/1563 [==============================] - 191s 122ms/step - loss: 0.5765 - accuracy: 0.8074\n",
      "Epoch 37/50\n",
      "1563/1563 [==============================] - 192s 123ms/step - loss: 0.5579 - accuracy: 0.8142\n",
      "Epoch 38/50\n",
      "1563/1563 [==============================] - 191s 122ms/step - loss: 0.5344 - accuracy: 0.8230\n",
      "Epoch 39/50\n",
      "1563/1563 [==============================] - 192s 123ms/step - loss: 0.5091 - accuracy: 0.8320\n",
      "Epoch 40/50\n",
      "1563/1563 [==============================] - 193s 123ms/step - loss: 0.4892 - accuracy: 0.8410\n",
      "Epoch 41/50\n",
      "1563/1563 [==============================] - 192s 123ms/step - loss: 0.4640 - accuracy: 0.8492\n",
      "Epoch 42/50\n",
      "1563/1563 [==============================] - 192s 123ms/step - loss: 0.4414 - accuracy: 0.8587\n",
      "Epoch 43/50\n",
      "1563/1563 [==============================] - 192s 123ms/step - loss: 0.4193 - accuracy: 0.8657\n",
      "Epoch 44/50\n",
      "1563/1563 [==============================] - 191s 122ms/step - loss: 0.4015 - accuracy: 0.8733\n",
      "Epoch 45/50\n",
      "1563/1563 [==============================] - 192s 123ms/step - loss: 0.3830 - accuracy: 0.8784\n",
      "Epoch 46/50\n",
      "1563/1563 [==============================] - 192s 123ms/step - loss: 0.3622 - accuracy: 0.8890\n",
      "Epoch 47/50\n",
      "1563/1563 [==============================] - 192s 123ms/step - loss: 0.3429 - accuracy: 0.8933\n",
      "Epoch 48/50\n",
      "1563/1563 [==============================] - 193s 123ms/step - loss: 0.3228 - accuracy: 0.9014\n",
      "Epoch 49/50\n",
      "1563/1563 [==============================] - 191s 122ms/step - loss: 0.3072 - accuracy: 0.9073\n",
      "Epoch 50/50\n",
      "1563/1563 [==============================] - 191s 122ms/step - loss: 0.2862 - accuracy: 0.9143\n"
     ]
    },
    {
     "data": {
      "text/plain": [
       "<keras.callbacks.History at 0x5b154a8970>"
      ]
     },
     "execution_count": 32,
     "metadata": {},
     "output_type": "execute_result"
    }
   ],
   "source": [
    "model = keras.Sequential([\n",
    "        keras.layers.Flatten(input_shape=(32,32,3)),\n",
    "        keras.layers.Dense(3000, activation='relu'),\n",
    "        keras.layers.Dense(1000, activation='relu'),\n",
    "        keras.layers.Dense(10, activation='sigmoid')    \n",
    "    ])\n",
    "\n",
    "model.compile(optimizer='SGD',\n",
    "              loss='categorical_crossentropy',\n",
    "              metrics=['accuracy'])\n",
    "\n",
    "model.fit(X_train_scaled, y_train_categorical, epochs = 50)"
   ]
  },
  {
   "cell_type": "code",
   "execution_count": 36,
   "id": "45f0a609",
   "metadata": {},
   "outputs": [
    {
     "name": "stdout",
     "output_type": "stream",
     "text": [
      "313/313 [==============================] - 13s 40ms/step - loss: 1.6551 - accuracy: 0.5479\n"
     ]
    },
    {
     "data": {
      "text/plain": [
       "[1.655103087425232, 0.5479000210762024]"
      ]
     },
     "execution_count": 36,
     "metadata": {},
     "output_type": "execute_result"
    }
   ],
   "source": [
    "model.evaluate(X_test_scaled, y_test_categorical)"
   ]
  },
  {
   "cell_type": "code",
   "execution_count": 43,
   "id": "8fae845a",
   "metadata": {},
   "outputs": [
    {
     "data": {
      "text/plain": [
       "'cat'"
      ]
     },
     "execution_count": 43,
     "metadata": {},
     "output_type": "execute_result"
    }
   ],
   "source": [
    "classes[y_test[0][0]]"
   ]
  },
  {
   "cell_type": "code",
   "execution_count": 45,
   "id": "bc05835f",
   "metadata": {},
   "outputs": [
    {
     "data": {
      "text/plain": [
       "3"
      ]
     },
     "execution_count": 45,
     "metadata": {},
     "output_type": "execute_result"
    }
   ],
   "source": [
    "y_test[0][0]"
   ]
  },
  {
   "cell_type": "code",
   "execution_count": 42,
   "id": "c3af6779",
   "metadata": {},
   "outputs": [
    {
     "data": {
      "text/plain": [
       "array([0.5187199 , 0.4452302 , 0.36983857, 0.9999194 , 0.9369536 ,\n",
       "       0.77470344, 0.02714038, 0.00346786, 0.67324543, 0.135712  ],\n",
       "      dtype=float32)"
      ]
     },
     "execution_count": 42,
     "metadata": {},
     "output_type": "execute_result"
    }
   ],
   "source": [
    "model.predict(X_test_scaled)[0]"
   ]
  },
  {
   "cell_type": "code",
   "execution_count": 44,
   "id": "f7620677",
   "metadata": {},
   "outputs": [
    {
     "data": {
      "text/plain": [
       "3"
      ]
     },
     "execution_count": 44,
     "metadata": {},
     "output_type": "execute_result"
    }
   ],
   "source": [
    "np.argmax(model.predict(X_test_scaled)[0])"
   ]
  },
  {
   "cell_type": "code",
   "execution_count": 47,
   "id": "c233ce7b",
   "metadata": {},
   "outputs": [
    {
     "data": {
      "text/plain": [
       "array([[5.1871991e-01, 4.4523019e-01, 3.6983857e-01, 9.9991941e-01,\n",
       "        9.3695360e-01, 7.7470344e-01, 2.7140379e-02, 3.4678578e-03,\n",
       "        6.7324543e-01, 1.3571200e-01],\n",
       "       [9.6193254e-01, 9.9187899e-01, 7.5044549e-01, 3.6299556e-02,\n",
       "        6.3667715e-02, 1.0281235e-02, 1.1748075e-03, 7.3979580e-01,\n",
       "        9.9981189e-01, 6.2016511e-01],\n",
       "       [9.9919474e-01, 7.7095705e-01, 2.5713181e-01, 6.1232895e-02,\n",
       "        1.1784780e-01, 8.3262742e-02, 1.7994642e-04, 9.9591547e-01,\n",
       "        9.4661200e-01, 7.4048764e-01],\n",
       "       [9.9703205e-01, 4.1096705e-01, 8.2736802e-01, 4.5409480e-01,\n",
       "        9.0175354e-01, 1.1963308e-02, 7.8018638e-05, 9.9337077e-01,\n",
       "        9.2057264e-01, 1.0106385e-01],\n",
       "       [2.0611852e-02, 1.3750792e-04, 9.6754146e-01, 9.3840802e-01,\n",
       "        9.9998879e-01, 9.6081567e-01, 9.9827600e-01, 3.1540862e-01,\n",
       "        6.9972456e-02, 1.8042326e-04]], dtype=float32)"
      ]
     },
     "execution_count": 47,
     "metadata": {},
     "output_type": "execute_result"
    }
   ],
   "source": [
    "y_predicted = model.predict(X_test_scaled)\n",
    "y_predicted[:5]"
   ]
  },
  {
   "cell_type": "code",
   "execution_count": 50,
   "id": "1e1e07f6",
   "metadata": {},
   "outputs": [],
   "source": [
    "y_predicted_labels = [np.argmax(i) for i in y_predicted]"
   ]
  },
  {
   "cell_type": "code",
   "execution_count": 51,
   "id": "b96fe093",
   "metadata": {},
   "outputs": [
    {
     "data": {
      "text/plain": [
       "<tf.Tensor: shape=(10, 10), dtype=int32, numpy=\n",
       "array([[782,   6,  15,  18,  39,  13,   8,  53,  46,  20],\n",
       "       [114, 563,  11,  26,  17,  16,  12,  57,  59, 125],\n",
       "       [102,   6, 321,  99, 193,  81,  35, 142,  11,  10],\n",
       "       [ 37,   9,  38, 390,  85, 215,  50, 145,   7,  24],\n",
       "       [ 54,   3,  58,  61, 541,  49,  45, 168,  13,   8],\n",
       "       [ 26,   3,  41, 200,  72, 469,  19, 149,   9,  12],\n",
       "       [ 18,   6,  50, 133, 120,  76, 521,  54,  10,  12],\n",
       "       [ 42,   3,  11,  44,  59,  50,   4, 775,   2,  10],\n",
       "       [217,  29,   7,  32,  30,  12,   3,  57, 584,  29],\n",
       "       [123,  93,  15,  35,  20,  18,   6, 122,  36, 532]])>"
      ]
     },
     "execution_count": 51,
     "metadata": {},
     "output_type": "execute_result"
    }
   ],
   "source": [
    "cm = tf.math.confusion_matrix(labels=y_test,predictions=y_predicted_labels)\n",
    "cm"
   ]
  },
  {
   "cell_type": "code",
   "execution_count": 52,
   "id": "dbe51514",
   "metadata": {},
   "outputs": [
    {
     "data": {
      "text/plain": [
       "Text(69.0, 0.5, 'Truth')"
      ]
     },
     "execution_count": 52,
     "metadata": {},
     "output_type": "execute_result"
    },
    {
     "data": {
      "image/png": "[encoded data removed]",
      "text/plain": [
       "<Figure size 720x504 with 2 Axes>"
      ]
     },
     "metadata": {
      "needs_background": "light"
     },
     "output_type": "display_data"
    }
   ],
   "source": [
    "import seaborn as sn\n",
    "plt.figure(figsize = (10,7))\n",
    "sn.heatmap(cm, annot=True, fmt='d')\n",
    "plt.xlabel('Predicted')\n",
    "plt.ylabel('Truth')"
   ]
  },
  {
   "cell_type": "code",
   "execution_count": null,
   "id": "8cedd554",
   "metadata": {},
   "outputs": [],
   "source": []
  }
 ],
 "metadata": {
  "kernelspec": {
   "display_name": "Python 3 (ipykernel)",
   "language": "python",
   "name": "python3"
  },
  "language_info": {
   "codemirror_mode": {
    "name": "ipython",
    "version": 3
   },
   "file_extension": ".py",
   "mimetype": "text/x-python",
   "name": "python",
   "nbconvert_exporter": "python",
   "pygments_lexer": "ipython3",
   "version": "3.9.7"
  }
 },
 "nbformat": 4,
 "nbformat_minor": 5
}
