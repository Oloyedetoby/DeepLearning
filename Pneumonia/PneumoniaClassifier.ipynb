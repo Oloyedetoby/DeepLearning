{
 "cells": [
  {
   "cell_type": "markdown",
   "id": "a95c56f7",
   "metadata": {},
   "source": [
    "1. Imports\n",
    "2. Loading data\n",
    "3. Train test split\n",
    "4. Preparing the data\n",
    "5. Convolutionnal neural network\n",
    "6. Results & Evaluation"
   ]
  },
  {
   "cell_type": "code",
   "execution_count": 1,
   "id": "28d42ab8",
   "metadata": {},
   "outputs": [],
   "source": [
    "#\n",
    "import numpy as np \n",
    "import pandas as pd \n",
    "import random\n",
    "\n",
    "# folder\n",
    "import os\n",
    "import glob\n",
    "\n",
    "# image\n",
    "from PIL import Image\n",
    "\n",
    "# visu\n",
    "import matplotlib.pyplot as plt\n",
    "plt.rc('image', cmap='gray')\n",
    "import seaborn as sns\n",
    "\n",
    "# sklearn\n",
    "from sklearn.preprocessing import LabelEncoder\n",
    "from sklearn.model_selection import train_test_split\n",
    "from sklearn.metrics import confusion_matrix\n",
    "from sklearn.metrics import plot_confusion_matrix\n",
    "\n",
    "#tensorflow\n",
    "from tensorflow.keras import Sequential\n",
    "from tensorflow.keras import layers\n",
    "from tensorflow.keras.callbacks import EarlyStopping, ReduceLROnPlateau\n",
    "from tensorflow.keras.metrics import Accuracy"
   ]
  },
  {
   "cell_type": "code",
   "execution_count": 2,
   "id": "bd681327",
   "metadata": {},
   "outputs": [],
   "source": [
    "#Loading data\n",
    "#There are two categories in three sets:\n",
    "categories = [\"NORMAL\", \"PNEUMONIA\"]\n",
    "datasets = [\"train\", \"test\", \"val\"]"
   ]
  },
  {
   "cell_type": "code",
   "execution_count": 3,
   "id": "2d3107d3",
   "metadata": {},
   "outputs": [],
   "source": [
    "#Let's compute the average size of the images among all categories and all datasets:\n"
   ]
  },
  {
   "cell_type": "code",
   "execution_count": 4,
   "id": "fd9fc2ab",
   "metadata": {},
   "outputs": [
    {
     "name": "stdout",
     "output_type": "stream",
     "text": [
      "Average image width: 1327.88\n",
      "Average image height: 970.69\n",
      "CPU times: total: 13.5 s\n",
      "Wall time: 4min 2s\n"
     ]
    }
   ],
   "source": [
    "%%time\n",
    "\n",
    "widths = []\n",
    "heights = []\n",
    "\n",
    "for set_ in datasets:\n",
    "    for cat in categories:\n",
    "        filelist = glob.glob('./chest_xray/' + set_ + '/' + cat + '/*.jpeg')\n",
    "        widths.extend([Image.open(fname).size[0] for fname in filelist])\n",
    "        heights.extend([Image.open(fname).size[1] for fname in filelist])\n",
    "\n",
    "images_size = pd.DataFrame({\"widths\": widths, \"heights\": heights})\n",
    "        \n",
    "print(\"Average image width: \" + f'{images_size[\"widths\"].mean():.2f}')\n",
    "print(\"Average image height: \" + f'{images_size[\"heights\"].mean():.2f}')"
   ]
  },
  {
   "cell_type": "code",
   "execution_count": 5,
   "id": "bf8b5965",
   "metadata": {},
   "outputs": [
    {
     "data": {
      "text/html": [
       "<div>\n",
       "<style scoped>\n",
       "    .dataframe tbody tr th:only-of-type {\n",
       "        vertical-align: middle;\n",
       "    }\n",
       "\n",
       "    .dataframe tbody tr th {\n",
       "        vertical-align: top;\n",
       "    }\n",
       "\n",
       "    .dataframe thead th {\n",
       "        text-align: right;\n",
       "    }\n",
       "</style>\n",
       "<table border=\"1\" class=\"dataframe\">\n",
       "  <thead>\n",
       "    <tr style=\"text-align: right;\">\n",
       "      <th></th>\n",
       "      <th>widths</th>\n",
       "      <th>heights</th>\n",
       "    </tr>\n",
       "  </thead>\n",
       "  <tbody>\n",
       "    <tr>\n",
       "      <th>0</th>\n",
       "      <td>2090</td>\n",
       "      <td>1858</td>\n",
       "    </tr>\n",
       "    <tr>\n",
       "      <th>1</th>\n",
       "      <td>1422</td>\n",
       "      <td>1152</td>\n",
       "    </tr>\n",
       "    <tr>\n",
       "      <th>2</th>\n",
       "      <td>1810</td>\n",
       "      <td>1434</td>\n",
       "    </tr>\n",
       "    <tr>\n",
       "      <th>3</th>\n",
       "      <td>1618</td>\n",
       "      <td>1279</td>\n",
       "    </tr>\n",
       "    <tr>\n",
       "      <th>4</th>\n",
       "      <td>1600</td>\n",
       "      <td>1125</td>\n",
       "    </tr>\n",
       "    <tr>\n",
       "      <th>5</th>\n",
       "      <td>1974</td>\n",
       "      <td>1306</td>\n",
       "    </tr>\n",
       "  </tbody>\n",
       "</table>\n",
       "</div>"
      ],
      "text/plain": [
       "   widths  heights\n",
       "0    2090     1858\n",
       "1    1422     1152\n",
       "2    1810     1434\n",
       "3    1618     1279\n",
       "4    1600     1125\n",
       "5    1974     1306"
      ]
     },
     "execution_count": 5,
     "metadata": {},
     "output_type": "execute_result"
    }
   ],
   "source": [
    "images_size.head(6)"
   ]
  },
  {
   "cell_type": "code",
   "execution_count": 6,
   "id": "c5993df8",
   "metadata": {},
   "outputs": [
    {
     "name": "stdout",
     "output_type": "stream",
     "text": [
      "image width: 132\n",
      "image height: 97\n"
     ]
    }
   ],
   "source": [
    "# And now we divide the mean width and mean height of the images by 10:\n",
    "\n",
    "im_width = int(images_size[\"widths\"].mean()/10)\n",
    "im_height = int(images_size[\"heights\"].mean()/10)\n",
    "print(\"image width: \" + str(im_width))\n",
    "print(\"image height: \" + str(im_height))"
   ]
  },
  {
   "cell_type": "markdown",
   "id": "2f71d728",
   "metadata": {},
   "source": [
    "# Now we load all the images from the three sets in one single dataframe and before that, we resize images by the lengths described above."
   ]
  },
  {
   "cell_type": "code",
   "execution_count": 7,
   "id": "4600cb39",
   "metadata": {},
   "outputs": [
    {
     "name": "stdout",
     "output_type": "stream",
     "text": [
      "CPU times: total: 5min 3s\n",
      "Wall time: 8min 44s\n"
     ]
    }
   ],
   "source": [
    "%%time\n",
    "\n",
    "data = []\n",
    "target = []\n",
    "\n",
    "for set_ in datasets:\n",
    "    for cat in categories:\n",
    "        filelist = glob.glob('./chest_xray/' + set_ + '/' + cat + '/*.jpeg')\n",
    "        target.extend([cat for _ in filelist])\n",
    "        data.extend([np.array(Image.open(fname).convert('L').resize((im_width, im_height))) for fname in filelist])\n",
    "#\n",
    "data_array = np.stack(data, axis=0)"
   ]
  },
  {
   "cell_type": "code",
   "execution_count": 8,
   "id": "6b9ba3f0",
   "metadata": {},
   "outputs": [
    {
     "data": {
      "text/plain": [
       "['NORMAL',\n",
       " 'NORMAL',\n",
       " 'NORMAL',\n",
       " 'NORMAL',\n",
       " 'NORMAL',\n",
       " 'NORMAL',\n",
       " 'NORMAL',\n",
       " 'NORMAL',\n",
       " 'NORMAL',\n",
       " 'NORMAL',\n",
       " 'NORMAL',\n",
       " 'NORMAL',\n",
       " 'NORMAL',\n",
       " 'NORMAL',\n",
       " 'NORMAL',\n",
       " 'NORMAL',\n",
       " 'NORMAL',\n",
       " 'NORMAL',\n",
       " 'NORMAL',\n",
       " 'NORMAL',\n",
       " 'NORMAL',\n",
       " 'NORMAL',\n",
       " 'NORMAL',\n",
       " 'NORMAL',\n",
       " 'NORMAL',\n",
       " 'NORMAL',\n",
       " 'NORMAL',\n",
       " 'NORMAL',\n",
       " 'NORMAL',\n",
       " 'NORMAL',\n",
       " 'NORMAL',\n",
       " 'NORMAL',\n",
       " 'NORMAL',\n",
       " 'NORMAL',\n",
       " 'NORMAL',\n",
       " 'NORMAL',\n",
       " 'NORMAL',\n",
       " 'NORMAL',\n",
       " 'NORMAL',\n",
       " 'NORMAL',\n",
       " 'NORMAL',\n",
       " 'NORMAL',\n",
       " 'NORMAL',\n",
       " 'NORMAL',\n",
       " 'NORMAL',\n",
       " 'NORMAL',\n",
       " 'NORMAL',\n",
       " 'NORMAL',\n",
       " 'NORMAL',\n",
       " 'NORMAL',\n",
       " 'NORMAL',\n",
       " 'NORMAL',\n",
       " 'NORMAL',\n",
       " 'NORMAL',\n",
       " 'NORMAL',\n",
       " 'NORMAL',\n",
       " 'NORMAL',\n",
       " 'NORMAL',\n",
       " 'NORMAL',\n",
       " 'NORMAL',\n",
       " 'NORMAL',\n",
       " 'NORMAL',\n",
       " 'NORMAL',\n",
       " 'NORMAL',\n",
       " 'NORMAL',\n",
       " 'NORMAL',\n",
       " 'NORMAL',\n",
       " 'NORMAL',\n",
       " 'NORMAL',\n",
       " 'NORMAL',\n",
       " 'NORMAL',\n",
       " 'NORMAL',\n",
       " 'NORMAL',\n",
       " 'NORMAL',\n",
       " 'NORMAL',\n",
       " 'NORMAL',\n",
       " 'NORMAL',\n",
       " 'NORMAL',\n",
       " 'NORMAL',\n",
       " 'NORMAL',\n",
       " 'NORMAL',\n",
       " 'NORMAL',\n",
       " 'NORMAL',\n",
       " 'NORMAL',\n",
       " 'NORMAL',\n",
       " 'NORMAL',\n",
       " 'NORMAL',\n",
       " 'NORMAL',\n",
       " 'NORMAL',\n",
       " 'NORMAL',\n",
       " 'NORMAL',\n",
       " 'NORMAL',\n",
       " 'NORMAL',\n",
       " 'NORMAL',\n",
       " 'NORMAL',\n",
       " 'NORMAL',\n",
       " 'NORMAL',\n",
       " 'NORMAL',\n",
       " 'NORMAL',\n",
       " 'NORMAL',\n",
       " 'NORMAL',\n",
       " 'NORMAL',\n",
       " 'NORMAL',\n",
       " 'NORMAL',\n",
       " 'NORMAL',\n",
       " 'NORMAL',\n",
       " 'NORMAL',\n",
       " 'NORMAL',\n",
       " 'NORMAL',\n",
       " 'NORMAL',\n",
       " 'NORMAL',\n",
       " 'NORMAL',\n",
       " 'NORMAL',\n",
       " 'NORMAL',\n",
       " 'NORMAL',\n",
       " 'NORMAL',\n",
       " 'NORMAL',\n",
       " 'NORMAL',\n",
       " 'NORMAL',\n",
       " 'NORMAL',\n",
       " 'NORMAL',\n",
       " 'NORMAL',\n",
       " 'NORMAL',\n",
       " 'NORMAL',\n",
       " 'NORMAL',\n",
       " 'NORMAL',\n",
       " 'NORMAL',\n",
       " 'NORMAL',\n",
       " 'NORMAL',\n",
       " 'NORMAL',\n",
       " 'NORMAL',\n",
       " 'NORMAL',\n",
       " 'NORMAL',\n",
       " 'NORMAL',\n",
       " 'NORMAL',\n",
       " 'NORMAL',\n",
       " 'NORMAL',\n",
       " 'NORMAL',\n",
       " 'NORMAL',\n",
       " 'NORMAL',\n",
       " 'NORMAL',\n",
       " 'NORMAL',\n",
       " 'NORMAL',\n",
       " 'NORMAL',\n",
       " 'NORMAL',\n",
       " 'NORMAL',\n",
       " 'NORMAL',\n",
       " 'NORMAL',\n",
       " 'NORMAL',\n",
       " 'NORMAL',\n",
       " 'NORMAL',\n",
       " 'NORMAL',\n",
       " 'NORMAL',\n",
       " 'NORMAL',\n",
       " 'NORMAL',\n",
       " 'NORMAL',\n",
       " 'NORMAL',\n",
       " 'NORMAL',\n",
       " 'NORMAL',\n",
       " 'NORMAL',\n",
       " 'NORMAL',\n",
       " 'NORMAL',\n",
       " 'NORMAL',\n",
       " 'NORMAL',\n",
       " 'NORMAL',\n",
       " 'NORMAL',\n",
       " 'NORMAL',\n",
       " 'NORMAL',\n",
       " 'NORMAL',\n",
       " 'NORMAL',\n",
       " 'NORMAL',\n",
       " 'NORMAL',\n",
       " 'NORMAL',\n",
       " 'NORMAL',\n",
       " 'NORMAL',\n",
       " 'NORMAL',\n",
       " 'NORMAL',\n",
       " 'NORMAL',\n",
       " 'NORMAL',\n",
       " 'NORMAL',\n",
       " 'NORMAL',\n",
       " 'NORMAL',\n",
       " 'NORMAL',\n",
       " 'NORMAL',\n",
       " 'NORMAL',\n",
       " 'NORMAL',\n",
       " 'NORMAL',\n",
       " 'NORMAL',\n",
       " 'NORMAL',\n",
       " 'NORMAL',\n",
       " 'NORMAL',\n",
       " 'NORMAL',\n",
       " 'NORMAL',\n",
       " 'NORMAL',\n",
       " 'NORMAL',\n",
       " 'NORMAL',\n",
       " 'NORMAL',\n",
       " 'NORMAL',\n",
       " 'NORMAL',\n",
       " 'NORMAL',\n",
       " 'NORMAL',\n",
       " 'NORMAL',\n",
       " 'NORMAL',\n",
       " 'NORMAL',\n",
       " 'NORMAL',\n",
       " 'NORMAL',\n",
       " 'NORMAL',\n",
       " 'NORMAL',\n",
       " 'NORMAL',\n",
       " 'NORMAL',\n",
       " 'NORMAL',\n",
       " 'NORMAL',\n",
       " 'NORMAL',\n",
       " 'NORMAL',\n",
       " 'NORMAL',\n",
       " 'NORMAL',\n",
       " 'NORMAL',\n",
       " 'NORMAL',\n",
       " 'NORMAL',\n",
       " 'NORMAL',\n",
       " 'NORMAL',\n",
       " 'NORMAL',\n",
       " 'NORMAL',\n",
       " 'NORMAL',\n",
       " 'NORMAL',\n",
       " 'NORMAL',\n",
       " 'NORMAL',\n",
       " 'NORMAL',\n",
       " 'NORMAL',\n",
       " 'NORMAL',\n",
       " 'NORMAL',\n",
       " 'NORMAL',\n",
       " 'NORMAL',\n",
       " 'NORMAL',\n",
       " 'NORMAL',\n",
       " 'NORMAL',\n",
       " 'NORMAL',\n",
       " 'NORMAL',\n",
       " 'NORMAL',\n",
       " 'NORMAL',\n",
       " 'NORMAL',\n",
       " 'NORMAL',\n",
       " 'NORMAL',\n",
       " 'NORMAL',\n",
       " 'NORMAL',\n",
       " 'NORMAL',\n",
       " 'NORMAL',\n",
       " 'NORMAL',\n",
       " 'NORMAL',\n",
       " 'NORMAL',\n",
       " 'NORMAL',\n",
       " 'NORMAL',\n",
       " 'NORMAL',\n",
       " 'NORMAL',\n",
       " 'NORMAL',\n",
       " 'NORMAL',\n",
       " 'NORMAL',\n",
       " 'NORMAL',\n",
       " 'NORMAL',\n",
       " 'NORMAL',\n",
       " 'NORMAL',\n",
       " 'NORMAL',\n",
       " 'NORMAL',\n",
       " 'NORMAL',\n",
       " 'NORMAL',\n",
       " 'NORMAL',\n",
       " 'NORMAL',\n",
       " 'NORMAL',\n",
       " 'NORMAL',\n",
       " 'NORMAL',\n",
       " 'NORMAL',\n",
       " 'NORMAL',\n",
       " 'NORMAL',\n",
       " 'NORMAL',\n",
       " 'NORMAL',\n",
       " 'NORMAL',\n",
       " 'NORMAL',\n",
       " 'NORMAL',\n",
       " 'NORMAL',\n",
       " 'NORMAL',\n",
       " 'NORMAL',\n",
       " 'NORMAL',\n",
       " 'NORMAL',\n",
       " 'NORMAL',\n",
       " 'NORMAL',\n",
       " 'NORMAL',\n",
       " 'NORMAL',\n",
       " 'NORMAL',\n",
       " 'NORMAL',\n",
       " 'NORMAL',\n",
       " 'NORMAL',\n",
       " 'NORMAL',\n",
       " 'NORMAL',\n",
       " 'NORMAL',\n",
       " 'NORMAL',\n",
       " 'NORMAL',\n",
       " 'NORMAL',\n",
       " 'NORMAL',\n",
       " 'NORMAL',\n",
       " 'NORMAL',\n",
       " 'NORMAL',\n",
       " 'NORMAL',\n",
       " 'NORMAL',\n",
       " 'NORMAL',\n",
       " 'NORMAL',\n",
       " 'NORMAL',\n",
       " 'NORMAL',\n",
       " 'NORMAL',\n",
       " 'NORMAL',\n",
       " 'NORMAL',\n",
       " 'NORMAL',\n",
       " 'NORMAL',\n",
       " 'NORMAL',\n",
       " 'NORMAL',\n",
       " 'NORMAL',\n",
       " 'NORMAL',\n",
       " 'NORMAL',\n",
       " 'NORMAL',\n",
       " 'NORMAL',\n",
       " 'NORMAL',\n",
       " 'NORMAL',\n",
       " 'NORMAL',\n",
       " 'NORMAL',\n",
       " 'NORMAL',\n",
       " 'NORMAL',\n",
       " 'NORMAL',\n",
       " 'NORMAL',\n",
       " 'NORMAL',\n",
       " 'NORMAL',\n",
       " 'NORMAL',\n",
       " 'NORMAL',\n",
       " 'NORMAL',\n",
       " 'NORMAL',\n",
       " 'NORMAL',\n",
       " 'NORMAL',\n",
       " 'NORMAL',\n",
       " 'NORMAL',\n",
       " 'NORMAL',\n",
       " 'NORMAL',\n",
       " 'NORMAL',\n",
       " 'NORMAL',\n",
       " 'NORMAL',\n",
       " 'NORMAL',\n",
       " 'NORMAL',\n",
       " 'NORMAL',\n",
       " 'NORMAL',\n",
       " 'NORMAL',\n",
       " 'NORMAL',\n",
       " 'NORMAL',\n",
       " 'NORMAL',\n",
       " 'NORMAL',\n",
       " 'NORMAL',\n",
       " 'NORMAL',\n",
       " 'NORMAL',\n",
       " 'NORMAL',\n",
       " 'NORMAL',\n",
       " 'NORMAL',\n",
       " 'NORMAL',\n",
       " 'NORMAL',\n",
       " 'NORMAL',\n",
       " 'NORMAL',\n",
       " 'NORMAL',\n",
       " 'NORMAL',\n",
       " 'NORMAL',\n",
       " 'NORMAL',\n",
       " 'NORMAL',\n",
       " 'NORMAL',\n",
       " 'NORMAL',\n",
       " 'NORMAL',\n",
       " 'NORMAL',\n",
       " 'NORMAL',\n",
       " 'NORMAL',\n",
       " 'NORMAL',\n",
       " 'NORMAL',\n",
       " 'NORMAL',\n",
       " 'NORMAL',\n",
       " 'NORMAL',\n",
       " 'NORMAL',\n",
       " 'NORMAL',\n",
       " 'NORMAL',\n",
       " 'NORMAL',\n",
       " 'NORMAL',\n",
       " 'NORMAL',\n",
       " 'NORMAL',\n",
       " 'NORMAL',\n",
       " 'NORMAL',\n",
       " 'NORMAL',\n",
       " 'NORMAL',\n",
       " 'NORMAL',\n",
       " 'NORMAL',\n",
       " 'NORMAL',\n",
       " 'NORMAL',\n",
       " 'NORMAL',\n",
       " 'NORMAL',\n",
       " 'NORMAL',\n",
       " 'NORMAL',\n",
       " 'NORMAL',\n",
       " 'NORMAL',\n",
       " 'NORMAL',\n",
       " 'NORMAL',\n",
       " 'NORMAL',\n",
       " 'NORMAL',\n",
       " 'NORMAL',\n",
       " 'NORMAL',\n",
       " 'NORMAL',\n",
       " 'NORMAL',\n",
       " 'NORMAL',\n",
       " 'NORMAL',\n",
       " 'NORMAL',\n",
       " 'NORMAL',\n",
       " 'NORMAL',\n",
       " 'NORMAL',\n",
       " 'NORMAL',\n",
       " 'NORMAL',\n",
       " 'NORMAL',\n",
       " 'NORMAL',\n",
       " 'NORMAL',\n",
       " 'NORMAL',\n",
       " 'NORMAL',\n",
       " 'NORMAL',\n",
       " 'NORMAL',\n",
       " 'NORMAL',\n",
       " 'NORMAL',\n",
       " 'NORMAL',\n",
       " 'NORMAL',\n",
       " 'NORMAL',\n",
       " 'NORMAL',\n",
       " 'NORMAL',\n",
       " 'NORMAL',\n",
       " 'NORMAL',\n",
       " 'NORMAL',\n",
       " 'NORMAL',\n",
       " 'NORMAL',\n",
       " 'NORMAL',\n",
       " 'NORMAL',\n",
       " 'NORMAL',\n",
       " 'NORMAL',\n",
       " 'NORMAL',\n",
       " 'NORMAL',\n",
       " 'NORMAL',\n",
       " 'NORMAL',\n",
       " 'NORMAL',\n",
       " 'NORMAL',\n",
       " 'NORMAL',\n",
       " 'NORMAL',\n",
       " 'NORMAL',\n",
       " 'NORMAL',\n",
       " 'NORMAL',\n",
       " 'NORMAL',\n",
       " 'NORMAL',\n",
       " 'NORMAL',\n",
       " 'NORMAL',\n",
       " 'NORMAL',\n",
       " 'NORMAL',\n",
       " 'NORMAL',\n",
       " 'NORMAL',\n",
       " 'NORMAL',\n",
       " 'NORMAL',\n",
       " 'NORMAL',\n",
       " 'NORMAL',\n",
       " 'NORMAL',\n",
       " 'NORMAL',\n",
       " 'NORMAL',\n",
       " 'NORMAL',\n",
       " 'NORMAL',\n",
       " 'NORMAL',\n",
       " 'NORMAL',\n",
       " 'NORMAL',\n",
       " 'NORMAL',\n",
       " 'NORMAL',\n",
       " 'NORMAL',\n",
       " 'NORMAL',\n",
       " 'NORMAL',\n",
       " 'NORMAL',\n",
       " 'NORMAL',\n",
       " 'NORMAL',\n",
       " 'NORMAL',\n",
       " 'NORMAL',\n",
       " 'NORMAL',\n",
       " 'NORMAL',\n",
       " 'NORMAL',\n",
       " 'NORMAL',\n",
       " 'NORMAL',\n",
       " 'NORMAL',\n",
       " 'NORMAL',\n",
       " 'NORMAL',\n",
       " 'NORMAL',\n",
       " 'NORMAL',\n",
       " 'NORMAL',\n",
       " 'NORMAL',\n",
       " 'NORMAL',\n",
       " 'NORMAL',\n",
       " 'NORMAL',\n",
       " 'NORMAL',\n",
       " 'NORMAL',\n",
       " 'NORMAL',\n",
       " 'NORMAL',\n",
       " 'NORMAL',\n",
       " 'NORMAL',\n",
       " 'NORMAL',\n",
       " 'NORMAL',\n",
       " 'NORMAL',\n",
       " 'NORMAL',\n",
       " 'NORMAL',\n",
       " 'NORMAL',\n",
       " 'NORMAL',\n",
       " 'NORMAL',\n",
       " 'NORMAL',\n",
       " 'NORMAL',\n",
       " 'NORMAL',\n",
       " 'NORMAL',\n",
       " 'NORMAL',\n",
       " 'NORMAL',\n",
       " 'NORMAL',\n",
       " 'NORMAL',\n",
       " 'NORMAL',\n",
       " 'NORMAL',\n",
       " 'NORMAL',\n",
       " 'NORMAL',\n",
       " 'NORMAL',\n",
       " 'NORMAL',\n",
       " 'NORMAL',\n",
       " 'NORMAL',\n",
       " 'NORMAL',\n",
       " 'NORMAL',\n",
       " 'NORMAL',\n",
       " 'NORMAL',\n",
       " 'NORMAL',\n",
       " 'NORMAL',\n",
       " 'NORMAL',\n",
       " 'NORMAL',\n",
       " 'NORMAL',\n",
       " 'NORMAL',\n",
       " 'NORMAL',\n",
       " 'NORMAL',\n",
       " 'NORMAL',\n",
       " 'NORMAL',\n",
       " 'NORMAL',\n",
       " 'NORMAL',\n",
       " 'NORMAL',\n",
       " 'NORMAL',\n",
       " 'NORMAL',\n",
       " 'NORMAL',\n",
       " 'NORMAL',\n",
       " 'NORMAL',\n",
       " 'NORMAL',\n",
       " 'NORMAL',\n",
       " 'NORMAL',\n",
       " 'NORMAL',\n",
       " 'NORMAL',\n",
       " 'NORMAL',\n",
       " 'NORMAL',\n",
       " 'NORMAL',\n",
       " 'NORMAL',\n",
       " 'NORMAL',\n",
       " 'NORMAL',\n",
       " 'NORMAL',\n",
       " 'NORMAL',\n",
       " 'NORMAL',\n",
       " 'NORMAL',\n",
       " 'NORMAL',\n",
       " 'NORMAL',\n",
       " 'NORMAL',\n",
       " 'NORMAL',\n",
       " 'NORMAL',\n",
       " 'NORMAL',\n",
       " 'NORMAL',\n",
       " 'NORMAL',\n",
       " 'NORMAL',\n",
       " 'NORMAL',\n",
       " 'NORMAL',\n",
       " 'NORMAL',\n",
       " 'NORMAL',\n",
       " 'NORMAL',\n",
       " 'NORMAL',\n",
       " 'NORMAL',\n",
       " 'NORMAL',\n",
       " 'NORMAL',\n",
       " 'NORMAL',\n",
       " 'NORMAL',\n",
       " 'NORMAL',\n",
       " 'NORMAL',\n",
       " 'NORMAL',\n",
       " 'NORMAL',\n",
       " 'NORMAL',\n",
       " 'NORMAL',\n",
       " 'NORMAL',\n",
       " 'NORMAL',\n",
       " 'NORMAL',\n",
       " 'NORMAL',\n",
       " 'NORMAL',\n",
       " 'NORMAL',\n",
       " 'NORMAL',\n",
       " 'NORMAL',\n",
       " 'NORMAL',\n",
       " 'NORMAL',\n",
       " 'NORMAL',\n",
       " 'NORMAL',\n",
       " 'NORMAL',\n",
       " 'NORMAL',\n",
       " 'NORMAL',\n",
       " 'NORMAL',\n",
       " 'NORMAL',\n",
       " 'NORMAL',\n",
       " 'NORMAL',\n",
       " 'NORMAL',\n",
       " 'NORMAL',\n",
       " 'NORMAL',\n",
       " 'NORMAL',\n",
       " 'NORMAL',\n",
       " 'NORMAL',\n",
       " 'NORMAL',\n",
       " 'NORMAL',\n",
       " 'NORMAL',\n",
       " 'NORMAL',\n",
       " 'NORMAL',\n",
       " 'NORMAL',\n",
       " 'NORMAL',\n",
       " 'NORMAL',\n",
       " 'NORMAL',\n",
       " 'NORMAL',\n",
       " 'NORMAL',\n",
       " 'NORMAL',\n",
       " 'NORMAL',\n",
       " 'NORMAL',\n",
       " 'NORMAL',\n",
       " 'NORMAL',\n",
       " 'NORMAL',\n",
       " 'NORMAL',\n",
       " 'NORMAL',\n",
       " 'NORMAL',\n",
       " 'NORMAL',\n",
       " 'NORMAL',\n",
       " 'NORMAL',\n",
       " 'NORMAL',\n",
       " 'NORMAL',\n",
       " 'NORMAL',\n",
       " 'NORMAL',\n",
       " 'NORMAL',\n",
       " 'NORMAL',\n",
       " 'NORMAL',\n",
       " 'NORMAL',\n",
       " 'NORMAL',\n",
       " 'NORMAL',\n",
       " 'NORMAL',\n",
       " 'NORMAL',\n",
       " 'NORMAL',\n",
       " 'NORMAL',\n",
       " 'NORMAL',\n",
       " 'NORMAL',\n",
       " 'NORMAL',\n",
       " 'NORMAL',\n",
       " 'NORMAL',\n",
       " 'NORMAL',\n",
       " 'NORMAL',\n",
       " 'NORMAL',\n",
       " 'NORMAL',\n",
       " 'NORMAL',\n",
       " 'NORMAL',\n",
       " 'NORMAL',\n",
       " 'NORMAL',\n",
       " 'NORMAL',\n",
       " 'NORMAL',\n",
       " 'NORMAL',\n",
       " 'NORMAL',\n",
       " 'NORMAL',\n",
       " 'NORMAL',\n",
       " 'NORMAL',\n",
       " 'NORMAL',\n",
       " 'NORMAL',\n",
       " 'NORMAL',\n",
       " 'NORMAL',\n",
       " 'NORMAL',\n",
       " 'NORMAL',\n",
       " 'NORMAL',\n",
       " 'NORMAL',\n",
       " 'NORMAL',\n",
       " 'NORMAL',\n",
       " 'NORMAL',\n",
       " 'NORMAL',\n",
       " 'NORMAL',\n",
       " 'NORMAL',\n",
       " 'NORMAL',\n",
       " 'NORMAL',\n",
       " 'NORMAL',\n",
       " 'NORMAL',\n",
       " 'NORMAL',\n",
       " 'NORMAL',\n",
       " 'NORMAL',\n",
       " 'NORMAL',\n",
       " 'NORMAL',\n",
       " 'NORMAL',\n",
       " 'NORMAL',\n",
       " 'NORMAL',\n",
       " 'NORMAL',\n",
       " 'NORMAL',\n",
       " 'NORMAL',\n",
       " 'NORMAL',\n",
       " 'NORMAL',\n",
       " 'NORMAL',\n",
       " 'NORMAL',\n",
       " 'NORMAL',\n",
       " 'NORMAL',\n",
       " 'NORMAL',\n",
       " 'NORMAL',\n",
       " 'NORMAL',\n",
       " 'NORMAL',\n",
       " 'NORMAL',\n",
       " 'NORMAL',\n",
       " 'NORMAL',\n",
       " 'NORMAL',\n",
       " 'NORMAL',\n",
       " 'NORMAL',\n",
       " 'NORMAL',\n",
       " 'NORMAL',\n",
       " 'NORMAL',\n",
       " 'NORMAL',\n",
       " 'NORMAL',\n",
       " 'NORMAL',\n",
       " 'NORMAL',\n",
       " 'NORMAL',\n",
       " 'NORMAL',\n",
       " 'NORMAL',\n",
       " 'NORMAL',\n",
       " 'NORMAL',\n",
       " 'NORMAL',\n",
       " 'NORMAL',\n",
       " 'NORMAL',\n",
       " 'NORMAL',\n",
       " 'NORMAL',\n",
       " 'NORMAL',\n",
       " 'NORMAL',\n",
       " 'NORMAL',\n",
       " 'NORMAL',\n",
       " 'NORMAL',\n",
       " 'NORMAL',\n",
       " 'NORMAL',\n",
       " 'NORMAL',\n",
       " 'NORMAL',\n",
       " 'NORMAL',\n",
       " 'NORMAL',\n",
       " 'NORMAL',\n",
       " 'NORMAL',\n",
       " 'NORMAL',\n",
       " 'NORMAL',\n",
       " 'NORMAL',\n",
       " 'NORMAL',\n",
       " 'NORMAL',\n",
       " 'NORMAL',\n",
       " 'NORMAL',\n",
       " 'NORMAL',\n",
       " 'NORMAL',\n",
       " 'NORMAL',\n",
       " 'NORMAL',\n",
       " 'NORMAL',\n",
       " 'NORMAL',\n",
       " 'NORMAL',\n",
       " 'NORMAL',\n",
       " 'NORMAL',\n",
       " 'NORMAL',\n",
       " 'NORMAL',\n",
       " 'NORMAL',\n",
       " 'NORMAL',\n",
       " 'NORMAL',\n",
       " 'NORMAL',\n",
       " 'NORMAL',\n",
       " 'NORMAL',\n",
       " 'NORMAL',\n",
       " 'NORMAL',\n",
       " 'NORMAL',\n",
       " 'NORMAL',\n",
       " 'NORMAL',\n",
       " 'NORMAL',\n",
       " 'NORMAL',\n",
       " 'NORMAL',\n",
       " 'NORMAL',\n",
       " 'NORMAL',\n",
       " 'NORMAL',\n",
       " 'NORMAL',\n",
       " 'NORMAL',\n",
       " 'NORMAL',\n",
       " 'NORMAL',\n",
       " 'NORMAL',\n",
       " 'NORMAL',\n",
       " 'NORMAL',\n",
       " 'NORMAL',\n",
       " 'NORMAL',\n",
       " 'NORMAL',\n",
       " 'NORMAL',\n",
       " 'NORMAL',\n",
       " 'NORMAL',\n",
       " 'NORMAL',\n",
       " 'NORMAL',\n",
       " 'NORMAL',\n",
       " 'NORMAL',\n",
       " 'NORMAL',\n",
       " 'NORMAL',\n",
       " 'NORMAL',\n",
       " 'NORMAL',\n",
       " 'NORMAL',\n",
       " 'NORMAL',\n",
       " 'NORMAL',\n",
       " 'NORMAL',\n",
       " 'NORMAL',\n",
       " 'NORMAL',\n",
       " 'NORMAL',\n",
       " 'NORMAL',\n",
       " 'NORMAL',\n",
       " 'NORMAL',\n",
       " 'NORMAL',\n",
       " 'NORMAL',\n",
       " 'NORMAL',\n",
       " 'NORMAL',\n",
       " 'NORMAL',\n",
       " 'NORMAL',\n",
       " 'NORMAL',\n",
       " 'NORMAL',\n",
       " 'NORMAL',\n",
       " 'NORMAL',\n",
       " 'NORMAL',\n",
       " 'NORMAL',\n",
       " 'NORMAL',\n",
       " 'NORMAL',\n",
       " 'NORMAL',\n",
       " 'NORMAL',\n",
       " 'NORMAL',\n",
       " 'NORMAL',\n",
       " 'NORMAL',\n",
       " 'NORMAL',\n",
       " 'NORMAL',\n",
       " 'NORMAL',\n",
       " 'NORMAL',\n",
       " 'NORMAL',\n",
       " 'NORMAL',\n",
       " 'NORMAL',\n",
       " 'NORMAL',\n",
       " 'NORMAL',\n",
       " 'NORMAL',\n",
       " 'NORMAL',\n",
       " 'NORMAL',\n",
       " 'NORMAL',\n",
       " 'NORMAL',\n",
       " 'NORMAL',\n",
       " 'NORMAL',\n",
       " 'NORMAL',\n",
       " 'NORMAL',\n",
       " 'NORMAL',\n",
       " 'NORMAL',\n",
       " 'NORMAL',\n",
       " 'NORMAL',\n",
       " 'NORMAL',\n",
       " 'NORMAL',\n",
       " 'NORMAL',\n",
       " 'NORMAL',\n",
       " 'NORMAL',\n",
       " 'NORMAL',\n",
       " 'NORMAL',\n",
       " 'NORMAL',\n",
       " 'NORMAL',\n",
       " 'NORMAL',\n",
       " 'NORMAL',\n",
       " 'NORMAL',\n",
       " 'NORMAL',\n",
       " 'NORMAL',\n",
       " 'NORMAL',\n",
       " 'NORMAL',\n",
       " 'NORMAL',\n",
       " 'NORMAL',\n",
       " 'NORMAL',\n",
       " 'NORMAL',\n",
       " 'NORMAL',\n",
       " 'NORMAL',\n",
       " 'NORMAL',\n",
       " 'NORMAL',\n",
       " 'NORMAL',\n",
       " 'NORMAL',\n",
       " 'NORMAL',\n",
       " 'NORMAL',\n",
       " 'NORMAL',\n",
       " 'NORMAL',\n",
       " 'NORMAL',\n",
       " 'NORMAL',\n",
       " 'NORMAL',\n",
       " 'NORMAL',\n",
       " 'NORMAL',\n",
       " 'NORMAL',\n",
       " 'NORMAL',\n",
       " 'NORMAL',\n",
       " 'NORMAL',\n",
       " 'NORMAL',\n",
       " 'NORMAL',\n",
       " 'NORMAL',\n",
       " 'NORMAL',\n",
       " 'NORMAL',\n",
       " 'NORMAL',\n",
       " 'NORMAL',\n",
       " 'NORMAL',\n",
       " 'NORMAL',\n",
       " 'NORMAL',\n",
       " 'NORMAL',\n",
       " 'NORMAL',\n",
       " 'NORMAL',\n",
       " 'NORMAL',\n",
       " 'NORMAL',\n",
       " 'NORMAL',\n",
       " 'NORMAL',\n",
       " 'NORMAL',\n",
       " 'NORMAL',\n",
       " 'NORMAL',\n",
       " 'NORMAL',\n",
       " 'NORMAL',\n",
       " 'NORMAL',\n",
       " 'NORMAL',\n",
       " 'NORMAL',\n",
       " 'NORMAL',\n",
       " 'NORMAL',\n",
       " 'NORMAL',\n",
       " 'NORMAL',\n",
       " 'NORMAL',\n",
       " 'NORMAL',\n",
       " 'NORMAL',\n",
       " 'NORMAL',\n",
       " 'NORMAL',\n",
       " 'NORMAL',\n",
       " 'NORMAL',\n",
       " 'NORMAL',\n",
       " 'NORMAL',\n",
       " 'NORMAL',\n",
       " 'NORMAL',\n",
       " 'NORMAL',\n",
       " 'NORMAL',\n",
       " 'NORMAL',\n",
       " 'NORMAL',\n",
       " 'NORMAL',\n",
       " 'NORMAL',\n",
       " 'NORMAL',\n",
       " 'NORMAL',\n",
       " 'NORMAL',\n",
       " 'NORMAL',\n",
       " 'NORMAL',\n",
       " 'NORMAL',\n",
       " 'NORMAL',\n",
       " 'NORMAL',\n",
       " 'NORMAL',\n",
       " 'NORMAL',\n",
       " 'NORMAL',\n",
       " 'NORMAL',\n",
       " 'NORMAL',\n",
       " 'NORMAL',\n",
       " 'NORMAL',\n",
       " 'NORMAL',\n",
       " 'NORMAL',\n",
       " 'NORMAL',\n",
       " 'NORMAL',\n",
       " 'NORMAL',\n",
       " 'NORMAL',\n",
       " 'NORMAL',\n",
       " 'NORMAL',\n",
       " 'NORMAL',\n",
       " 'NORMAL',\n",
       " 'NORMAL',\n",
       " 'NORMAL',\n",
       " 'NORMAL',\n",
       " 'NORMAL',\n",
       " 'NORMAL',\n",
       " 'NORMAL',\n",
       " 'NORMAL',\n",
       " 'NORMAL',\n",
       " 'NORMAL',\n",
       " 'NORMAL',\n",
       " 'NORMAL',\n",
       " 'NORMAL',\n",
       " 'NORMAL',\n",
       " 'NORMAL',\n",
       " 'NORMAL',\n",
       " 'NORMAL',\n",
       " 'NORMAL',\n",
       " 'NORMAL',\n",
       " 'NORMAL',\n",
       " 'NORMAL',\n",
       " 'NORMAL',\n",
       " 'NORMAL',\n",
       " 'NORMAL',\n",
       " 'NORMAL',\n",
       " 'NORMAL',\n",
       " 'NORMAL',\n",
       " 'NORMAL',\n",
       " 'NORMAL',\n",
       " 'NORMAL',\n",
       " 'NORMAL',\n",
       " 'NORMAL',\n",
       " 'NORMAL',\n",
       " 'NORMAL',\n",
       " 'NORMAL',\n",
       " 'NORMAL',\n",
       " 'NORMAL',\n",
       " 'NORMAL',\n",
       " 'NORMAL',\n",
       " 'NORMAL',\n",
       " 'NORMAL',\n",
       " ...]"
      ]
     },
     "execution_count": 8,
     "metadata": {},
     "output_type": "execute_result"
    }
   ],
   "source": [
    " target"
   ]
  },
  {
   "cell_type": "code",
   "execution_count": 9,
   "id": "5aac2d05",
   "metadata": {},
   "outputs": [],
   "source": [
    "#So we have 5856 tensor images of width 132 and height 97, each pixel being defined by Black (0) or white (255)."
   ]
  },
  {
   "cell_type": "code",
   "execution_count": 10,
   "id": "cfa9aed2",
   "metadata": {},
   "outputs": [
    {
     "name": "stdout",
     "output_type": "stream",
     "text": [
      "(5856, 97, 132)\n"
     ]
    }
   ],
   "source": [
    "print(data_array.shape)"
   ]
  },
  {
   "cell_type": "code",
   "execution_count": 11,
   "id": "9e0e6ec6",
   "metadata": {},
   "outputs": [],
   "source": [
    "#The dataset is a bit unbalanced, we have 73% of classPNEUMONIA and 27% of class NORMAL."
   ]
  },
  {
   "cell_type": "code",
   "execution_count": 12,
   "id": "11d09417",
   "metadata": {},
   "outputs": [
    {
     "data": {
      "text/html": [
       "<div>\n",
       "<style scoped>\n",
       "    .dataframe tbody tr th:only-of-type {\n",
       "        vertical-align: middle;\n",
       "    }\n",
       "\n",
       "    .dataframe tbody tr th {\n",
       "        vertical-align: top;\n",
       "    }\n",
       "\n",
       "    .dataframe thead th {\n",
       "        text-align: right;\n",
       "    }\n",
       "</style>\n",
       "<table border=\"1\" class=\"dataframe\">\n",
       "  <thead>\n",
       "    <tr style=\"text-align: right;\">\n",
       "      <th></th>\n",
       "      <th>count</th>\n",
       "      <th>%</th>\n",
       "    </tr>\n",
       "  </thead>\n",
       "  <tbody>\n",
       "    <tr>\n",
       "      <th>PNEUMONIA</th>\n",
       "      <td>4273</td>\n",
       "      <td>73</td>\n",
       "    </tr>\n",
       "    <tr>\n",
       "      <th>NORMAL</th>\n",
       "      <td>1583</td>\n",
       "      <td>27</td>\n",
       "    </tr>\n",
       "  </tbody>\n",
       "</table>\n",
       "</div>"
      ],
      "text/plain": [
       "           count   %\n",
       "PNEUMONIA   4273  73\n",
       "NORMAL      1583  27"
      ]
     },
     "execution_count": 12,
     "metadata": {},
     "output_type": "execute_result"
    }
   ],
   "source": [
    "pd.concat([pd.DataFrame(pd.DataFrame({\"target\" : target}).value_counts()).rename(columns={0:\"count\"}),\n",
    "           pd.DataFrame(pd.DataFrame(target).value_counts()*100/len(target)).applymap(round).rename(columns={0:\"%\"})], axis=1)"
   ]
  },
  {
   "cell_type": "code",
   "execution_count": 13,
   "id": "ce1cc458",
   "metadata": {},
   "outputs": [],
   "source": [
    "#Let's have a look at several random images and associated label of our dataset:"
   ]
  },
  {
   "cell_type": "code",
   "execution_count": 14,
   "id": "32012538",
   "metadata": {},
   "outputs": [
    {
     "data": {
      "image/png": "[encoded data removed]",
      "text/plain": [
       "<Figure size 1440x1080 with 9 Axes>"
      ]
     },
     "metadata": {
      "needs_background": "light"
     },
     "output_type": "display_data"
    }
   ],
   "source": [
    "fig = plt.figure(figsize=(20,15))\n",
    "gs = fig.add_gridspec(4, 4)\n",
    "#\n",
    "for line in range(0, 3):\n",
    "    for row in range(0, 3):\n",
    "        num_image = random.randint(0, data_array.shape[0])\n",
    "        ax = fig.add_subplot(gs[line, row])\n",
    "        ax.axis('off');\n",
    "        ax.set_title(target[num_image])\n",
    "        ax.imshow(data_array[num_image]);"
   ]
  },
  {
   "cell_type": "code",
   "execution_count": 15,
   "id": "386b2099",
   "metadata": {},
   "outputs": [],
   "source": [
    "#Train test split\n",
    "#We separate dataset into two sets, one for training and another one for testing and evaluate model.\n",
    "#The test set consists in 20% of the dataset and the remaining is for the train set. \n",
    "#The class repartition is kept by setting the parameter stratify to target."
   ]
  },
  {
   "cell_type": "code",
   "execution_count": 16,
   "id": "37cc086a",
   "metadata": {},
   "outputs": [],
   "source": [
    "X_train, X_test, y_train, y_test = train_test_split(data_array, np.array(target), random_state=43, test_size=0.2, stratify=target)"
   ]
  },
  {
   "cell_type": "code",
   "execution_count": 17,
   "id": "68e40e13",
   "metadata": {},
   "outputs": [
    {
     "name": "stdout",
     "output_type": "stream",
     "text": [
      "(4684, 97, 132)\n",
      "(1172, 97, 132)\n",
      "(4684,)\n",
      "(1172,)\n"
     ]
    }
   ],
   "source": [
    "print(X_train.shape)\n",
    "print(X_test.shape)\n",
    "print(y_train.shape)\n",
    "print(y_test.shape)"
   ]
  },
  {
   "cell_type": "code",
   "execution_count": 18,
   "id": "df9f461d",
   "metadata": {},
   "outputs": [
    {
     "data": {
      "text/plain": [
       "<matplotlib.image.AxesImage at 0xaf0c5ba430>"
      ]
     },
     "execution_count": 18,
     "metadata": {},
     "output_type": "execute_result"
    },
    {
     "data": {
      "image/png": "[encoded data removed]",
      "text/plain": [
       "<Figure size 391.918x288 with 1 Axes>"
      ]
     },
     "metadata": {
      "needs_background": "light"
     },
     "output_type": "display_data"
    }
   ],
   "source": [
    "plt.matshow(X_test[0])"
   ]
  },
  {
   "cell_type": "code",
   "execution_count": null,
   "id": "882ed4a7",
   "metadata": {},
   "outputs": [],
   "source": [
    "y_test[1]"
   ]
  },
  {
   "cell_type": "code",
   "execution_count": null,
   "id": "ef8a20eb",
   "metadata": {},
   "outputs": [],
   "source": [
    "pd.DataFrame(y_train).value_counts()"
   ]
  },
  {
   "cell_type": "code",
   "execution_count": null,
   "id": "cbdc45d1",
   "metadata": {},
   "outputs": [],
   "source": [
    "len(y_train)"
   ]
  },
  {
   "cell_type": "code",
   "execution_count": null,
   "id": "be927a55",
   "metadata": {},
   "outputs": [],
   "source": [
    "pd.DataFrame(y_train).value_counts()/len(y_train)"
   ]
  },
  {
   "cell_type": "code",
   "execution_count": null,
   "id": "d081d259",
   "metadata": {},
   "outputs": [],
   "source": [
    "pd.DataFrame(y_test).value_counts()/len(y_test)"
   ]
  },
  {
   "cell_type": "code",
   "execution_count": null,
   "id": "e8bc17ae",
   "metadata": {},
   "outputs": [],
   "source": [
    "#Preparing the data\n",
    "#o ease the convergence of the algorithm, it is usefull to normalize the data.\n",
    "#See here what are the maximum and minimum values in the data, and normalize it accordingly (the resulting image intensities should be between 0 and 1)."
   ]
  },
  {
   "cell_type": "code",
   "execution_count": null,
   "id": "82a0071f",
   "metadata": {},
   "outputs": [],
   "source": [
    "print(X_train.max())\n",
    "print(X_train.min())"
   ]
  },
  {
   "cell_type": "code",
   "execution_count": null,
   "id": "bb6d2387",
   "metadata": {},
   "outputs": [],
   "source": [
    "X_test_norm = np.round((X_test/255), 3).copy()\n",
    "X_train_norm = np.round((X_train/255), 3).copy()"
   ]
  },
  {
   "cell_type": "code",
   "execution_count": null,
   "id": "efc8f21f",
   "metadata": {},
   "outputs": [],
   "source": [
    "print(X_train_norm.max())\n",
    "print(X_train_norm.min())"
   ]
  },
  {
   "cell_type": "code",
   "execution_count": null,
   "id": "f7e8cff8",
   "metadata": {},
   "outputs": [],
   "source": [
    "#Here again, we can check the normalised pictures randomly"
   ]
  },
  {
   "cell_type": "code",
   "execution_count": null,
   "id": "c7954650",
   "metadata": {},
   "outputs": [],
   "source": [
    "fig = plt.figure(figsize=(20,15))\n",
    "gs = fig.add_gridspec(4, 4)\n",
    "#\n",
    "for line in range(0, 3):\n",
    "    for row in range(0, 3):\n",
    "        num_image = random.randint(0, X_train_norm.shape[0])\n",
    "        ax = fig.add_subplot(gs[line, row])\n",
    "       # ax.axis('off');\n",
    "        ax.set_title(y_train[num_image])\n",
    "        ax.imshow(X_train_norm[num_image]);"
   ]
  },
  {
   "cell_type": "code",
   "execution_count": null,
   "id": "aafe8523",
   "metadata": {},
   "outputs": [],
   "source": [
    "#Target encoding\n",
    "#Here we convert targets from string to numerical values, \n",
    "#each category becoming an integer - 0 or 1 - for NORMAL or PNEUMONIA:"
   ]
  },
  {
   "cell_type": "code",
   "execution_count": null,
   "id": "697abf3a",
   "metadata": {},
   "outputs": [],
   "source": [
    "display(np.array(y_train).shape)\n",
    "display(np.unique(y_train))\n",
    "display(np.array(y_test).shape)\n",
    "display(np.unique(y_test))"
   ]
  },
  {
   "cell_type": "code",
   "execution_count": null,
   "id": "e3304319",
   "metadata": {},
   "outputs": [],
   "source": [
    "#Fitting the encoder on train set:\n",
    "\n",
    "encoder = LabelEncoder().fit(y_train)\n"
   ]
  },
  {
   "cell_type": "code",
   "execution_count": null,
   "id": "f26cf6f9",
   "metadata": {},
   "outputs": [],
   "source": [
    "#Applying on train, test and validation sets:\n",
    "\n",
    "y_train_cat = encoder.transform(y_train)\n",
    "y_test_cat = encoder.transform(y_test)"
   ]
  },
  {
   "cell_type": "code",
   "execution_count": null,
   "id": "81afe708",
   "metadata": {},
   "outputs": [],
   "source": []
  },
  {
   "cell_type": "code",
   "execution_count": null,
   "id": "d2f431e4",
   "metadata": {},
   "outputs": [],
   "source": [
    "y_train_cat"
   ]
  },
  {
   "cell_type": "code",
   "execution_count": null,
   "id": "560a858b",
   "metadata": {},
   "outputs": [],
   "source": [
    "y_test_cat[0]"
   ]
  },
  {
   "cell_type": "code",
   "execution_count": null,
   "id": "27328fb8",
   "metadata": {},
   "outputs": [],
   "source": [
    "#Expanding dimension for the correct model intput dim\n",
    "#The deep learning model needs a 4 dimensions tensor to work with. Here we have grayscale pictures with no channel. \n",
    "#It means the matrices of our black and white pictures are of shape 3. \n",
    "#We need to add an extra dimension so algorithm can accept it."
   ]
  },
  {
   "cell_type": "code",
   "execution_count": null,
   "id": "6d2154c7",
   "metadata": {},
   "outputs": [],
   "source": [
    "X_train_norm.shape"
   ]
  },
  {
   "cell_type": "code",
   "execution_count": null,
   "id": "52c5debe",
   "metadata": {},
   "outputs": [],
   "source": [
    "X_train_norm = X_train_norm.reshape(-1, 97, 132, 1)\n",
    "X_test_norm = X_test_norm.reshape(-1, 97, 132, 1)\n",
    "X_train_norm.shape"
   ]
  },
  {
   "cell_type": "code",
   "execution_count": null,
   "id": "a5f1faa6",
   "metadata": {},
   "outputs": [],
   "source": [
    "X_test_norm.shape"
   ]
  },
  {
   "cell_type": "code",
   "execution_count": null,
   "id": "d080ddd1",
   "metadata": {},
   "outputs": [],
   "source": [
    "Convolutionnal neural network\n",
    "Now, let's define the Convolutional Neural Network.\n",
    "\n",
    "The CNN that is composed of:\n",
    "\n",
    "◼️ Conv2D layer with 32 filters, a kernel size of (3, 3), the relu activation function, a padding equal to same and the correct input_shape\n",
    "◼️ MaxPooling2D layer with a pool size of (2, 2)\n",
    "◼️ Conv2D layer with 64 filters, a kernel size of (3, 3), the relu activation function, and a padding equal to same\n",
    "◼️ MaxPooling2D layer with a pool size of (2, 2)\n",
    "◼️ Conv2D layer with 128 filters, a kernel size of (3, 3), the relu activation function, and a padding equal to same\n",
    "◼️ MaxPooling2D layer with a pool size of (3, 3)\n",
    "◼️ Flatten layer\n",
    "◼️ dense function with 120 neurons with the relu activation function\n",
    "◼️ dense function with 60 neurons with the relu activation function\n",
    "◼️ dropout layer (with a rate of 0.5), to regularize the network\n",
    "◼️ dense function related to the task: binary classification > sigmoid"
   ]
  },
  {
   "cell_type": "code",
   "execution_count": null,
   "id": "166df7e4",
   "metadata": {},
   "outputs": [],
   "source": [
    "def initialize_model():\n",
    "    model = Sequential()\n",
    "    model.add(layers.Conv2D(32, (3, 3), activation=\"relu\", input_shape=(im_height, im_width, 1), padding='same'))\n",
    "    model.add(layers.MaxPool2D(pool_size=(2, 2)))\n",
    "    model.add(layers.Conv2D(64, (3, 3), activation=\"relu\", padding='same'))\n",
    "    model.add(layers.MaxPool2D(pool_size=(2, 2)))\n",
    "    model.add(layers.Conv2D(128, (3, 3), activation=\"relu\", padding='same'))\n",
    "    model.add(layers.MaxPool2D(pool_size=(3, 3)))\n",
    "    model.add(layers.Flatten())\n",
    "    model.add(layers.Dense(120, activation='relu'))\n",
    "    model.add(layers.Dense(60, activation='relu'))\n",
    "    model.add(layers.Dropout(rate=0.2))\n",
    "    model.add(layers.Dense(1, activation='sigmoid'))\n",
    "\n",
    "    return model"
   ]
  },
  {
   "cell_type": "code",
   "execution_count": null,
   "id": "9c835941",
   "metadata": {},
   "outputs": [],
   "source": [
    "model = initialize_model()\n",
    "model.summary()"
   ]
  },
  {
   "cell_type": "code",
   "execution_count": null,
   "id": "ea61b4a1",
   "metadata": {},
   "outputs": [],
   "source": [
    "def compile_model(model):\n",
    "    model.compile(optimizer='adam',\n",
    "                  loss='binary_crossentropy',\n",
    "                  metrics=['accuracy'])\n",
    "    return model"
   ]
  },
  {
   "cell_type": "code",
   "execution_count": null,
   "id": "d63044ca",
   "metadata": {},
   "outputs": [],
   "source": [
    "#Here I set an early stopping after 5 epochs and set the parameter restore_best_weights to True so that the weights of best score on monitored metric -\n",
    "here val_accuracy (accuracy on test set) - are restored when training stops.\n",
    "This way the model has the best accuracy possible on unseen data."
   ]
  },
  {
   "cell_type": "code",
   "execution_count": null,
   "id": "aca6418d",
   "metadata": {
    "scrolled": true
   },
   "outputs": [],
   "source": [
    "model = initialize_model()\n",
    "model = compile_model(model)\n",
    "callback = [EarlyStopping(patience=5, monitor='val_accuracy', restore_best_weights=True),\n",
    "            ReduceLROnPlateau(monitor = 'val_loss', patience = 1, factor=0.5, verbose=1)]\n",
    "\n",
    "history = model.fit(X_train_norm, y_train_cat,\n",
    "                    batch_size=8,\n",
    "                    epochs=1000,\n",
    "                    validation_split=0.3,\n",
    "                    callbacks=callback)"
   ]
  },
  {
   "cell_type": "code",
   "execution_count": null,
   "id": "c5d2efb9",
   "metadata": {},
   "outputs": [],
   "source": [
    "#Results & Evaluation"
   ]
  },
  {
   "cell_type": "code",
   "execution_count": null,
   "id": "c62ec780",
   "metadata": {},
   "outputs": [],
   "source": [
    "def plot_history(history, title='', axs=None, exp_name=\"\"):\n",
    "    if axs is not None:\n",
    "        ax1, ax2 = axs\n",
    "    else:\n",
    "        f, (ax1, ax2) = plt.subplots(1, 2, figsize=(12, 4))\n",
    "    \n",
    "    if len(exp_name) > 0 and exp_name[0] != '_':\n",
    "        exp_name = '_' + exp_name\n",
    "    ax1.plot(history.history['loss'], label='train' + exp_name)\n",
    "    ax1.plot(history.history['val_loss'], label='val' + exp_name)\n",
    "    #ax1.set_ylim(-0.1, 0.1)\n",
    "    ax1.set_title('loss')\n",
    "    ax1.legend()\n",
    "\n",
    "    ax2.plot(history.history['accuracy'], label='train accuracy'  + exp_name)\n",
    "    ax2.plot(history.history['val_accuracy'], label='val accuracy'  + exp_name)\n",
    "    #ax2.set_ylim(0.9, 1.1)\n",
    "    ax2.set_title('Accuracy')\n",
    "    ax2.legend()\n",
    "    return (ax1, ax2)\n",
    "\n",
    "plot_history(history, title='', axs=None, exp_name=\"\");"
   ]
  },
  {
   "cell_type": "code",
   "execution_count": null,
   "id": "bbef94a9",
   "metadata": {},
   "outputs": [],
   "source": [
    "predictions = model.predict(X_test_norm)"
   ]
  },
  {
   "cell_type": "code",
   "execution_count": null,
   "id": "7fe4d3b5",
   "metadata": {},
   "outputs": [],
   "source": [
    "m = Accuracy()\n",
    "m.update_state(y_test_cat, np.round(predictions))\n",
    "m.result().numpy()"
   ]
  },
  {
   "cell_type": "code",
   "execution_count": null,
   "id": "07c84935",
   "metadata": {},
   "outputs": [],
   "source": [
    "model.evaluate(X_test_norm, y_test_cat)"
   ]
  },
  {
   "cell_type": "code",
   "execution_count": null,
   "id": "b590605a",
   "metadata": {},
   "outputs": [],
   "source": [
    "model.predict(X_test_norm)[0]"
   ]
  },
  {
   "cell_type": "code",
   "execution_count": null,
   "id": "6fb11d3d",
   "metadata": {},
   "outputs": [],
   "source": [
    "categories[int(np.round(model.predict(X_test_norm)[0]))]"
   ]
  },
  {
   "cell_type": "code",
   "execution_count": null,
   "id": "96b1a0fe",
   "metadata": {},
   "outputs": [],
   "source": [
    "y_test_cat[0]"
   ]
  },
  {
   "cell_type": "code",
   "execution_count": null,
   "id": "e5281b56",
   "metadata": {},
   "outputs": [],
   "source": [
    "cm = confusion_matrix(y_test_cat, np.round(predictions))\n",
    "fig, ax = plt.subplots()\n",
    "fig.set_size_inches(12, 8)\n",
    "sns.heatmap(cm, annot=True, fmt='d', ax=ax, cmap=plt.cm.Blues, cbar=False)\n",
    "ax.tick_params(axis='x', labelsize=16)\n",
    "ax.tick_params(axis='y', labelsize=16)\n",
    "ax.set_ylabel(\"True\", color=\"royalblue\", fontsize=35, fontweight=700)\n",
    "ax.set_xlabel(\"Prediction\", color=\"royalblue\", fontsize=35, fontweight=700)\n",
    "plt.yticks(rotation=0);"
   ]
  },
  {
   "cell_type": "code",
   "execution_count": null,
   "id": "666c083d",
   "metadata": {},
   "outputs": [],
   "source": [
    "acc = (831 + 285) / (831 + 285 + 24 + 32)\n",
    "acc"
   ]
  },
  {
   "cell_type": "code",
   "execution_count": 3,
   "id": "ecdd2521",
   "metadata": {},
   "outputs": [
    {
     "ename": "SyntaxError",
     "evalue": "EOL while scanning string literal (4290221256.py, line 2)",
     "output_type": "error",
     "traceback": [
      "\u001b[1;36m  Input \u001b[1;32mIn [3]\u001b[1;36m\u001b[0m\n\u001b[1;33m    Let's plot some random chest-x-ray picture alongside with true label and predicted label to check everything is ok:\u001b[0m\n\u001b[1;37m                                                                                                                       ^\u001b[0m\n\u001b[1;31mSyntaxError\u001b[0m\u001b[1;31m:\u001b[0m EOL while scanning string literal\n"
     ]
    }
   ],
   "source": [
    "#o we have an accuracy on unseen data of 97%.\n",
    "Let's plot some random chest-x-ray picture alongside with true label and predicted label to check everything is ok:"
   ]
  },
  {
   "cell_type": "code",
   "execution_count": 4,
   "id": "73579ffc",
   "metadata": {},
   "outputs": [
    {
     "ename": "NameError",
     "evalue": "name 'plt' is not defined",
     "output_type": "error",
     "traceback": [
      "\u001b[1;31m---------------------------------------------------------------------------\u001b[0m",
      "\u001b[1;31mNameError\u001b[0m                                 Traceback (most recent call last)",
      "Input \u001b[1;32mIn [4]\u001b[0m, in \u001b[0;36m<module>\u001b[1;34m\u001b[0m\n\u001b[1;32m----> 1\u001b[0m fig \u001b[38;5;241m=\u001b[39m \u001b[43mplt\u001b[49m\u001b[38;5;241m.\u001b[39mfigure(figsize\u001b[38;5;241m=\u001b[39m(\u001b[38;5;241m20\u001b[39m,\u001b[38;5;241m25\u001b[39m))\n\u001b[0;32m      2\u001b[0m gs \u001b[38;5;241m=\u001b[39m fig\u001b[38;5;241m.\u001b[39madd_gridspec(\u001b[38;5;241m8\u001b[39m, \u001b[38;5;241m4\u001b[39m)\n\u001b[0;32m      3\u001b[0m \u001b[38;5;66;03m#\u001b[39;00m\n",
      "\u001b[1;31mNameError\u001b[0m: name 'plt' is not defined"
     ]
    }
   ],
   "source": [
    "fig = plt.figure(figsize=(20,25))\n",
    "gs = fig.add_gridspec(8, 4)\n",
    "#\n",
    "for row in range(0, 8):\n",
    "    for col in range(0, 3):\n",
    "        num_image = random.randint(0, X_test_norm.shape[0])\n",
    "        ax = fig.add_subplot(gs[row, col])\n",
    "        ax.axis('off');\n",
    "        ax.set_title(\"Predicted: \" + categories[int(np.round(predictions)[num_image][0])] + \" /\\n True value: \" + categories[y_test_cat[num_image]])\n",
    "        ax.imshow(X_test_norm[num_image]);\n",
    "fig.suptitle(\"Predicted label VS True label \\n for the displayed chest X Ray pictures\", fontsize=25, x=0.42);\n",
    "#plt.tight_layout;"
   ]
  },
  {
   "cell_type": "code",
   "execution_count": 5,
   "id": "92a70f67",
   "metadata": {},
   "outputs": [
    {
     "ename": "NameError",
     "evalue": "name 'X_test_norm' is not defined",
     "output_type": "error",
     "traceback": [
      "\u001b[1;31m---------------------------------------------------------------------------\u001b[0m",
      "\u001b[1;31mNameError\u001b[0m                                 Traceback (most recent call last)",
      "Input \u001b[1;32mIn [5]\u001b[0m, in \u001b[0;36m<module>\u001b[1;34m\u001b[0m\n\u001b[1;32m----> 1\u001b[0m \u001b[43mX_test_norm\u001b[49m[\u001b[38;5;241m6\u001b[39m]\u001b[38;5;241m.\u001b[39mshape\n",
      "\u001b[1;31mNameError\u001b[0m: name 'X_test_norm' is not defined"
     ]
    }
   ],
   "source": [
    "X_test_norm[6].shape"
   ]
  },
  {
   "cell_type": "code",
   "execution_count": 6,
   "id": "8ccbde79",
   "metadata": {},
   "outputs": [
    {
     "ename": "NameError",
     "evalue": "name 'X_test_norm' is not defined",
     "output_type": "error",
     "traceback": [
      "\u001b[1;31m---------------------------------------------------------------------------\u001b[0m",
      "\u001b[1;31mNameError\u001b[0m                                 Traceback (most recent call last)",
      "Input \u001b[1;32mIn [6]\u001b[0m, in \u001b[0;36m<module>\u001b[1;34m\u001b[0m\n\u001b[1;32m----> 1\u001b[0m \u001b[43mX_test_norm\u001b[49m[\u001b[38;5;241m6\u001b[39m]\n",
      "\u001b[1;31mNameError\u001b[0m: name 'X_test_norm' is not defined"
     ]
    }
   ],
   "source": [
    "X_test_norm[6]"
   ]
  },
  {
   "cell_type": "code",
   "execution_count": 7,
   "id": "8691897e",
   "metadata": {},
   "outputs": [
    {
     "ename": "NameError",
     "evalue": "name 'y_test_cat' is not defined",
     "output_type": "error",
     "traceback": [
      "\u001b[1;31m---------------------------------------------------------------------------\u001b[0m",
      "\u001b[1;31mNameError\u001b[0m                                 Traceback (most recent call last)",
      "Input \u001b[1;32mIn [7]\u001b[0m, in \u001b[0;36m<module>\u001b[1;34m\u001b[0m\n\u001b[1;32m----> 1\u001b[0m \u001b[43my_test_cat\u001b[49m[\u001b[38;5;241m6\u001b[39m]\n",
      "\u001b[1;31mNameError\u001b[0m: name 'y_test_cat' is not defined"
     ]
    }
   ],
   "source": [
    "y_test_cat[6]"
   ]
  },
  {
   "cell_type": "code",
   "execution_count": 8,
   "id": "32150dac",
   "metadata": {},
   "outputs": [
    {
     "ename": "NameError",
     "evalue": "name 'model' is not defined",
     "output_type": "error",
     "traceback": [
      "\u001b[1;31m---------------------------------------------------------------------------\u001b[0m",
      "\u001b[1;31mNameError\u001b[0m                                 Traceback (most recent call last)",
      "Input \u001b[1;32mIn [8]\u001b[0m, in \u001b[0;36m<module>\u001b[1;34m\u001b[0m\n\u001b[1;32m----> 1\u001b[0m predictions \u001b[38;5;241m=\u001b[39m \u001b[43mmodel\u001b[49m\u001b[38;5;241m.\u001b[39mpredict(X_test_norm)\n",
      "\u001b[1;31mNameError\u001b[0m: name 'model' is not defined"
     ]
    }
   ],
   "source": [
    "predictions = model.predict(X_test_norm)"
   ]
  },
  {
   "cell_type": "code",
   "execution_count": 9,
   "id": "bc393fb0",
   "metadata": {},
   "outputs": [
    {
     "ename": "NameError",
     "evalue": "name 'predictions' is not defined",
     "output_type": "error",
     "traceback": [
      "\u001b[1;31m---------------------------------------------------------------------------\u001b[0m",
      "\u001b[1;31mNameError\u001b[0m                                 Traceback (most recent call last)",
      "Input \u001b[1;32mIn [9]\u001b[0m, in \u001b[0;36m<module>\u001b[1;34m\u001b[0m\n\u001b[1;32m----> 1\u001b[0m \u001b[43mpredictions\u001b[49m[\u001b[38;5;241m6\u001b[39m]\n",
      "\u001b[1;31mNameError\u001b[0m: name 'predictions' is not defined"
     ]
    }
   ],
   "source": [
    "predictions[6]"
   ]
  },
  {
   "cell_type": "code",
   "execution_count": 45,
   "id": "ac0a2fb5",
   "metadata": {},
   "outputs": [],
   "source": [
    "from keras.models import load_model\n"
   ]
  },
  {
   "cell_type": "code",
   "execution_count": 3,
   "id": "b9f2dd91",
   "metadata": {},
   "outputs": [
    {
     "ename": "NameError",
     "evalue": "name 'model' is not defined",
     "output_type": "error",
     "traceback": [
      "\u001b[1;31m---------------------------------------------------------------------------\u001b[0m",
      "\u001b[1;31mNameError\u001b[0m                                 Traceback (most recent call last)",
      "Input \u001b[1;32mIn [3]\u001b[0m, in \u001b[0;36m<module>\u001b[1;34m\u001b[0m\n\u001b[1;32m----> 1\u001b[0m \u001b[43mmodel\u001b[49m\u001b[38;5;241m.\u001b[39msave(\u001b[38;5;124m'\u001b[39m\u001b[38;5;124mmodel_pneumonia.hdf5\u001b[39m\u001b[38;5;124m'\u001b[39m)\n",
      "\u001b[1;31mNameError\u001b[0m: name 'model' is not defined"
     ]
    }
   ],
   "source": [
    "model.save('model_pneumonia.hdf5')"
   ]
  },
  {
   "cell_type": "code",
   "execution_count": 46,
   "id": "9c46ad52",
   "metadata": {},
   "outputs": [],
   "source": [
    "model = load_model('model_pneumonia.hdf5')"
   ]
  },
  {
   "cell_type": "code",
   "execution_count": 47,
   "id": "e4eef924",
   "metadata": {},
   "outputs": [
    {
     "name": "stdout",
     "output_type": "stream",
     "text": [
      "37/37 [==============================] - 17s 355ms/step - loss: 0.1405 - accuracy: 0.9522\n"
     ]
    }
   ],
   "source": [
    "loss, accuracy = model.evaluate(X_test_norm, y_test_cat)"
   ]
  },
  {
   "cell_type": "code",
   "execution_count": 48,
   "id": "b3e7c1fe",
   "metadata": {},
   "outputs": [
    {
     "data": {
      "text/plain": [
       "1"
      ]
     },
     "execution_count": 48,
     "metadata": {},
     "output_type": "execute_result"
    }
   ],
   "source": [
    "int(np.round(model.predict(X_test_norm)[0]))"
   ]
  },
  {
   "cell_type": "code",
   "execution_count": 50,
   "id": "703904ad",
   "metadata": {},
   "outputs": [],
   "source": [
    "categorries = {0:\"NORMAL\", 1:\"PNEUMONIA\"}"
   ]
  },
  {
   "cell_type": "code",
   "execution_count": 51,
   "id": "df2c0511",
   "metadata": {},
   "outputs": [
    {
     "data": {
      "text/plain": [
       "'PNEUMONIA'"
      ]
     },
     "execution_count": 51,
     "metadata": {},
     "output_type": "execute_result"
    }
   ],
   "source": [
    "categorries[int(np.round(model.predict(X_test_norm)[0]))]"
   ]
  },
  {
   "cell_type": "code",
   "execution_count": 52,
   "id": "6c0fc754",
   "metadata": {},
   "outputs": [
    {
     "data": {
      "text/plain": [
       "(97, 132, 1)"
      ]
     },
     "execution_count": 52,
     "metadata": {},
     "output_type": "execute_result"
    }
   ],
   "source": [
    "X_test_norm[7].shape"
   ]
  },
  {
   "cell_type": "code",
   "execution_count": 53,
   "id": "e423f6c6",
   "metadata": {},
   "outputs": [],
   "source": [
    "import cv2"
   ]
  },
  {
   "cell_type": "code",
   "execution_count": 228,
   "id": "a5bfabf0",
   "metadata": {},
   "outputs": [],
   "source": [
    "def classify_image(file_path):\n",
    "    __model = model\n",
    "    result = []\n",
    "    if(type(file_path) == type(None)):\n",
    "        pass\n",
    "    else:\n",
    "        print(file_path)\n",
    "        imgs = cv2.imread(file_path)\n",
    "        #imgs= cv2.cvtColor(imgs, cv2.COLOR_BGR2GRAY)\n",
    "        #print(imgs)\n",
    "        #print(imgs.shape)\n",
    "        try:\n",
    "            final = cv2.resize(imgs, (132,97))\n",
    "            print(np.shape(final))\n",
    "            final_norm = np.round((final / 255), 3).copy()\n",
    "            print(final_norm)\n",
    "            print(np.shape(final_norm))\n",
    "            #final_norm = np.reshape(final_norm,( -1, 197, 132))\n",
    "            final_norm = final_norm.reshape( -1,97, 132,1)\n",
    "            #print(np.shape(final_norm))\n",
    "            pred = __model.predict(final_norm)\n",
    "            print(pred)\n",
    "        \n",
    "            #result.append({\n",
    "              #    'class': class_number_to_name(tuple(np.round(__model.predict(final_norm)))),\n",
    "                 #   'class_probability': np.around(__model.predict(final_norm)*100,2).tolist()[0],\n",
    "                 #   'class_dictionary': __class_name_to_number\n",
    "               # })\n",
    "        except cv2.error as e:\n",
    "            print(\"invalid frame!\")"
   ]
  },
  {
   "cell_type": "code",
   "execution_count": 229,
   "id": "9ba222f2",
   "metadata": {},
   "outputs": [
    {
     "name": "stdout",
     "output_type": "stream",
     "text": [
      "C:/Users/TOBY CYBERWORLD/Desktop/DeepLearning/PneumomiaClassifier/server/test_images/IM-0135-0001.jpeg\n",
      "(97, 132, 3)\n",
      "[[[0.435 0.435 0.435]\n",
      "  [0.439 0.439 0.439]\n",
      "  [0.439 0.439 0.439]\n",
      "  ...\n",
      "  [0.047 0.047 0.047]\n",
      "  [0.063 0.063 0.063]\n",
      "  [0.078 0.078 0.078]]\n",
      "\n",
      " [[0.427 0.427 0.427]\n",
      "  [0.439 0.439 0.439]\n",
      "  [0.439 0.439 0.439]\n",
      "  ...\n",
      "  [0.141 0.141 0.141]\n",
      "  [0.161 0.161 0.161]\n",
      "  [0.173 0.173 0.173]]\n",
      "\n",
      " [[0.435 0.435 0.435]\n",
      "  [0.408 0.408 0.408]\n",
      "  [0.435 0.435 0.435]\n",
      "  ...\n",
      "  [0.235 0.235 0.235]\n",
      "  [0.216 0.216 0.216]\n",
      "  [0.239 0.239 0.239]]\n",
      "\n",
      " ...\n",
      "\n",
      " [[0.    0.    0.   ]\n",
      "  [0.    0.    0.   ]\n",
      "  [0.    0.    0.   ]\n",
      "  ...\n",
      "  [0.    0.    0.   ]\n",
      "  [0.    0.    0.   ]\n",
      "  [0.    0.    0.   ]]\n",
      "\n",
      " [[0.    0.    0.   ]\n",
      "  [0.    0.    0.   ]\n",
      "  [0.    0.    0.   ]\n",
      "  ...\n",
      "  [0.    0.    0.   ]\n",
      "  [0.    0.    0.   ]\n",
      "  [0.    0.    0.   ]]\n",
      "\n",
      " [[0.    0.    0.   ]\n",
      "  [0.    0.    0.   ]\n",
      "  [0.    0.    0.   ]\n",
      "  ...\n",
      "  [0.    0.    0.   ]\n",
      "  [0.    0.    0.   ]\n",
      "  [0.    0.    0.   ]]]\n",
      "(97, 132, 3)\n",
      "[[1.       ]\n",
      " [0.9999993]\n",
      " [1.       ]]\n",
      "None\n"
     ]
    }
   ],
   "source": [
    "print(classify_image(\"C:/Users/TOBY CYBERWORLD/Desktop/DeepLearning/PneumomiaClassifier/server/test_images/IM-0135-0001.jpeg\"))"
   ]
  },
  {
   "cell_type": "code",
   "execution_count": 169,
   "id": "a7ae40c4",
   "metadata": {},
   "outputs": [
    {
     "data": {
      "text/plain": [
       "1"
      ]
     },
     "execution_count": 169,
     "metadata": {},
     "output_type": "execute_result"
    }
   ],
   "source": [
    "y_test_cat[43]"
   ]
  },
  {
   "cell_type": "code",
   "execution_count": 91,
   "id": "53c88f88",
   "metadata": {},
   "outputs": [
    {
     "data": {
      "text/plain": [
       "array([1.], dtype=float32)"
      ]
     },
     "execution_count": 91,
     "metadata": {},
     "output_type": "execute_result"
    }
   ],
   "source": [
    "predictions[43]"
   ]
  },
  {
   "cell_type": "code",
   "execution_count": 86,
   "id": "6caee507",
   "metadata": {},
   "outputs": [
    {
     "data": {
      "text/plain": [
       "(97, 132, 1)"
      ]
     },
     "execution_count": 86,
     "metadata": {},
     "output_type": "execute_result"
    }
   ],
   "source": [
    "X_test_norm[43].shape"
   ]
  },
  {
   "cell_type": "code",
   "execution_count": null,
   "id": "88991645",
   "metadata": {},
   "outputs": [],
   "source": []
  }
 ],
 "metadata": {
  "kernelspec": {
   "display_name": "Python 3 (ipykernel)",
   "language": "python",
   "name": "python3"
  },
  "language_info": {
   "codemirror_mode": {
    "name": "ipython",
    "version": 3
   },
   "file_extension": ".py",
   "mimetype": "text/x-python",
   "name": "python",
   "nbconvert_exporter": "python",
   "pygments_lexer": "ipython3",
   "version": "3.9.7"
  }
 },
 "nbformat": 4,
 "nbformat_minor": 5
}
